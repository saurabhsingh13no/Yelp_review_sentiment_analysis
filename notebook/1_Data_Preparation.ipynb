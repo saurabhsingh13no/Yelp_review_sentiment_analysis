{
 "cells": [
  {
   "cell_type": "markdown",
   "metadata": {},
   "source": [
    "## <center> Data Preparation </center>"
   ]
  },
  {
   "cell_type": "markdown",
   "metadata": {},
   "source": [
    "Sample data: \n",
    "\n",
    "* \n",
    "> “A-M-A-ZING!!!!!!!!!!!!!! LOVE THIS PLACE!!!!!!! Everything on the menu looked so good!! Garlic chicken was the BOMB!!!!!! MUST EAT AT THIS PLACE!!! I recommend ordering ahead before you go! Gets very busy!!!” — 5 Stars.\n",
    "\n",
    "* \n",
    "> “burgers are very big portions here. definitely order the onion ring tower to share…Milkshakes are tasty! My personal favourite — the vanilla one.” — 3 Stars.\n",
    "\n",
    "* \n",
    "> “Food is very bland — not authentic at all. meant to cater to the customers who have never eaten Vietnamese food before. Definitely will not be returning!” — 1 Stars\n",
    "\n",
    "The first part of the project is to prepare the data. As we saw in the examples above, the reviews are very distinct. \n",
    "* Some of them have symbols, \n",
    "* have weird punctuation symbols, \n",
    "* and some even have non-alphanumeric characters. \n",
    "\n",
    "We will clean these and keep the most relevant strings and words from the reviews. "
   ]
  },
  {
   "cell_type": "markdown",
   "metadata": {},
   "source": [
    "## Importing libraries\n",
    "\n",
    "Importing necessary libraries to assist us in data preparation"
   ]
  },
  {
   "cell_type": "code",
   "execution_count": 26,
   "metadata": {
    "collapsed": true
   },
   "outputs": [],
   "source": [
    "import pandas as pd    # to create a dataframe from JSON datafile\n",
    "import json            # to read the dataset, because dataset is initially in the JSON format\n",
    "import numpy as np     # to handle large python list as numpy arrays - makes the process faster. Used in creating dataFrame\n",
    "import matplotlib.pyplot as plt # to draw plot - for visualization\n",
    "from collections import Counter # to counter class distribution in the dataset\n",
    "import re              # for data cleaning\n",
    "\n",
    "pd.set_option('max_colwidth', 300,\"html.border\",2)  # For aesthetic purposes\n",
    "from IPython.display import display, HTML           # For aesthetic purposes"
   ]
  },
  {
   "cell_type": "markdown",
   "metadata": {},
   "source": [
    "## Read the dataset\n",
    "\n",
    "The dataset downloaded from yelp is in JSON format as below:  \n",
    "    \n",
    "* > {\"review_id\":\"v0i_UHJMo_hPBq9bxWvW4w\",\"user_id\":\"bv2nCi5Qv5vroFiqKGopiw\",\"business_id\":\"0W4lkclzZThpx3V65bVgig\",\"stars\":5,\"date\":\"2016-05-28\",\"text\":\"Love the staff, love the meat, love the place. Prepare for a long line around lunch or dinner hours. \\n\\nThey ask you how you want you meat, lean or something maybe, I can't remember. Just say you don't want it too fatty. \\n\\nGet a half sour pickle and a hot pepper. Hand cut french fries too.\",\"useful\":0,\"funny\":0,\"cool\":0}\n",
    "\n",
    "* > {\"review_id\":\"vkVSCC7xljjrAI4UGfnKEQ\",\"user_id\":\"bv2nCi5Qv5vroFiqKGopiw\",\"business_id\":\"AEx2SYEUJmTxVVB18LlCwA\",\"stars\":5,\"date\":\"2016-05-28\",\"text\":\"Super simple place but amazing nonetheless. It's been around since the 30's and they still serve the same thing they started with: a bologna and salami sandwich with mustard. \\n\\nStaff was very helpful and friendly.\",\"useful\":0,\"funny\":0,\"cool\":0}\n",
    "\n",
    "It is  a 4.2G file - *review.json* \n",
    "\n",
    "I plan to just read the *text* and *stars* from the review and build a pandas dataset out of it.\n",
    "\n",
    "Let's do this."
   ]
  },
  {
   "cell_type": "code",
   "execution_count": 38,
   "metadata": {},
   "outputs": [
    {
     "name": "stdout",
     "output_type": "stream",
     "text": [
      "Number of records read : 5261669\n",
      "Sample data : \n"
     ]
    },
    {
     "data": {
      "text/html": [
       "<div>\n",
       "<style>\n",
       "    .dataframe thead tr:only-child th {\n",
       "        text-align: right;\n",
       "    }\n",
       "\n",
       "    .dataframe thead th {\n",
       "        text-align: left;\n",
       "    }\n",
       "\n",
       "    .dataframe tbody tr th {\n",
       "        vertical-align: top;\n",
       "    }\n",
       "</style>\n",
       "<table border=\"2\" class=\"dataframe\">\n",
       "  <thead>\n",
       "    <tr style=\"text-align: right;\">\n",
       "      <th></th>\n",
       "      <th>review</th>\n",
       "      <th>stars</th>\n",
       "    </tr>\n",
       "  </thead>\n",
       "  <tbody>\n",
       "    <tr>\n",
       "      <th>0</th>\n",
       "      <td>Love the staff, love the meat, love the place. Prepare for a long line around lunch or dinner hours. \\n\\nThey ask you how you want you meat, lean or something maybe, I can't remember. Just say you don't want it too fatty. \\n\\nGet a half sour pickle and a hot pepper. Hand cut french fries too.</td>\n",
       "      <td>5</td>\n",
       "    </tr>\n",
       "    <tr>\n",
       "      <th>1</th>\n",
       "      <td>Super simple place but amazing nonetheless. It's been around since the 30's and they still serve the same thing they started with: a bologna and salami sandwich with mustard. \\n\\nStaff was very helpful and friendly.</td>\n",
       "      <td>5</td>\n",
       "    </tr>\n",
       "    <tr>\n",
       "      <th>2</th>\n",
       "      <td>Small unassuming place that changes their menu every so often. Cool decor and vibe inside their 30 seat restaurant. Call for a reservation. \\n\\nWe had their beef tartar and pork belly to start and a salmon dish and lamb meal for mains. Everything was incredible! I could go on at length about how...</td>\n",
       "      <td>5</td>\n",
       "    </tr>\n",
       "    <tr>\n",
       "      <th>3</th>\n",
       "      <td>Lester's is located in a beautiful neighborhood and has been there since 1951. They are known for smoked meat which most deli's have but their brisket sandwich is what I come to montreal for. They've got about 12 seats outside to go along with the inside. \\n\\nThe smoked meat is up there in quali...</td>\n",
       "      <td>5</td>\n",
       "    </tr>\n",
       "    <tr>\n",
       "      <th>4</th>\n",
       "      <td>Love coming here. Yes the place always needs the floor swept but when you give out  peanuts in the shell how won't it always be a bit dirty. \\n\\nThe food speaks for itself, so good. Burgers are made to order and the meat is put on the grill when you order your sandwich. Getting the small burger ...</td>\n",
       "      <td>4</td>\n",
       "    </tr>\n",
       "  </tbody>\n",
       "</table>\n",
       "</div>"
      ],
      "text/plain": [
       "                                                                                                                                                                                                                                                                                                        review  stars\n",
       "0        Love the staff, love the meat, love the place. Prepare for a long line around lunch or dinner hours. \\n\\nThey ask you how you want you meat, lean or something maybe, I can't remember. Just say you don't want it too fatty. \\n\\nGet a half sour pickle and a hot pepper. Hand cut french fries too.      5\n",
       "1                                                                                      Super simple place but amazing nonetheless. It's been around since the 30's and they still serve the same thing they started with: a bologna and salami sandwich with mustard. \\n\\nStaff was very helpful and friendly.      5\n",
       "2  Small unassuming place that changes their menu every so often. Cool decor and vibe inside their 30 seat restaurant. Call for a reservation. \\n\\nWe had their beef tartar and pork belly to start and a salmon dish and lamb meal for mains. Everything was incredible! I could go on at length about how...      5\n",
       "3  Lester's is located in a beautiful neighborhood and has been there since 1951. They are known for smoked meat which most deli's have but their brisket sandwich is what I come to montreal for. They've got about 12 seats outside to go along with the inside. \\n\\nThe smoked meat is up there in quali...      5\n",
       "4  Love coming here. Yes the place always needs the floor swept but when you give out  peanuts in the shell how won't it always be a bit dirty. \\n\\nThe food speaks for itself, so good. Burgers are made to order and the meat is put on the grill when you order your sandwich. Getting the small burger ...      4"
      ]
     },
     "metadata": {},
     "output_type": "display_data"
    }
   ],
   "source": [
    "def readData(reviewJsonFilePath, outputDataFrameFilePath):\n",
    "    df = pd.DataFrame(columns=['review','stars'])\n",
    "    reviews = []    # Aggregated list of reviews\n",
    "    stars = []      # Aggregated list of stars\n",
    "    with open(reviewJsonFilePath, \"r\") as f:\n",
    "        number_of_records = 0\n",
    "        for line in f:\n",
    "            line = json.loads(line)\n",
    "            reviews.append(line[\"text\"])\n",
    "            stars.append(line['stars'])\n",
    "            number_of_records += 1\n",
    "            \n",
    "        df[\"review\"] = reviews\n",
    "        df[\"stars\"] = stars\n",
    "        \n",
    "    print (\"Number of records read : {0}\".format(number_of_records))      \n",
    "    print (\"Sample data : \")\n",
    "    display(df.head())\n",
    "    return df\n",
    "                \n",
    "            \n",
    "reviewJsonFilePath = \"../data/review.json\"\n",
    "outputDataFrameFilePath = \"../data/dataset.csv\"\n",
    "df = readData(reviewJsonFilePath, outputDataFrameFilePath)            "
   ]
  },
  {
   "cell_type": "code",
   "execution_count": 39,
   "metadata": {
    "collapsed": true
   },
   "outputs": [],
   "source": [
    "## Saving the dataset file onto disk for future use\n",
    "df.to_csv(outputDataFrameFilePath, index=False)"
   ]
  },
  {
   "cell_type": "markdown",
   "metadata": {},
   "source": [
    "## Class distribution\n",
    "\n",
    "Let us look at the class distribution of label - *stars* in our case"
   ]
  },
  {
   "cell_type": "code",
   "execution_count": 2,
   "metadata": {},
   "outputs": [
    {
     "data": {
      "image/png": "[encoded data removed]",
      "text/plain": [
       "<Figure size 432x288 with 1 Axes>"
      ]
     },
     "metadata": {},
     "output_type": "display_data"
    }
   ],
   "source": [
    "#df = pd.read_csv(\"../data/dataset.csv\")\n",
    "df['stars'].plot.hist()\n",
    "plt.show()"
   ]
  },
  {
   "cell_type": "code",
   "execution_count": 12,
   "metadata": {},
   "outputs": [
    {
     "name": "stdout",
     "output_type": "stream",
     "text": [
      "Counter({5.0: 2253348, 4.0: 1223316, 1.0: 731363, 3.0: 615481, 2.0: 438161, nan: 1, nan: 1})\n",
      "Percentage distribution of labels : \n"
     ]
    },
    {
     "data": {
      "text/plain": [
       "[(nan, 1.900536920685463e-05),\n",
       " (1.0, 13.899823839232821),\n",
       " (2.0, 8.327411577044632),\n",
       " (3.0, 11.697443644804094),\n",
       " (4.0, 23.249572236652575),\n",
       " (5.0, 42.82571069152746),\n",
       " (nan, 1.900536920685463e-05)]"
      ]
     },
     "execution_count": 12,
     "metadata": {},
     "output_type": "execute_result"
    }
   ],
   "source": [
    "c = Counter(df['stars'])\n",
    "print (c)\n",
    "print (\"Percentage distribution of labels : \")\n",
    "[(i, c[i] / len(df) * 100.0) for i in c]"
   ]
  },
  {
   "cell_type": "markdown",
   "metadata": {},
   "source": [
    "There is definately a class bias :\n",
    "* 14% of the label values are for stars 1\n",
    "* 8% of the label values for stars 2\n",
    "* 12% of the label values for stars 3\n",
    "* 23% of the label values for stars 4\n",
    "* 42% of the label values for stars 5\n",
    "\n"
   ]
  },
  {
   "cell_type": "markdown",
   "metadata": {},
   "source": [
    "## Sampling\n",
    "\n",
    "We are looking at 2 criteria when creating the dataset for training and testing purposes. \n",
    "\n",
    "* First, we skip over all reviews that have 3 stars, because they are neutral and we are only predicting positive or negative sentiment. \n",
    "* The second criteria is maintaining equal number of positive and negative reviews. \n",
    "\n",
    "If you load in the data directly, you’ll notice that there are a lot more + reviews than — reviews, with almost a 70%-30% split. We want to keep our training data equally balanced. \n",
    "\n",
    "In the code below, we sample the same number of reviews, which in this case is 200,000 for each sentiment (positive and negative) : \n",
    "* 100,000 - stars 1 (negative sentiment) \n",
    "* 100,000 - stars 2 (negative sentiment)\n",
    "* 100,000 - stars 4 (positive sentiment)\n",
    "* 100,000 - stars 5 (positive sentiment)"
   ]
  },
  {
   "cell_type": "code",
   "execution_count": 3,
   "metadata": {},
   "outputs": [
    {
     "data": {
      "text/html": [
       "<div>\n",
       "<style>\n",
       "    .dataframe thead tr:only-child th {\n",
       "        text-align: right;\n",
       "    }\n",
       "\n",
       "    .dataframe thead th {\n",
       "        text-align: left;\n",
       "    }\n",
       "\n",
       "    .dataframe tbody tr th {\n",
       "        vertical-align: top;\n",
       "    }\n",
       "</style>\n",
       "<table border=\"2\" class=\"dataframe\">\n",
       "  <thead>\n",
       "    <tr style=\"text-align: right;\">\n",
       "      <th></th>\n",
       "      <th>review</th>\n",
       "      <th>stars</th>\n",
       "    </tr>\n",
       "  </thead>\n",
       "  <tbody>\n",
       "    <tr>\n",
       "      <th>0</th>\n",
       "      <td>I had a bad experience with a competitor dentist, who refused to provide a standard cleaning. I had shopped around and read countless reviews to find a good dentist. \\n\\nIts a big office with 10+ dentists. The hygienists are great and well trained. They handle all the billing and scheduling righ...</td>\n",
       "      <td>5.0</td>\n",
       "    </tr>\n",
       "    <tr>\n",
       "      <th>1</th>\n",
       "      <td>This is the closest UPS Store to me and about three years ago I had a bad experience and stopped going there. \\n\\nBasically I was was told the notary would be there at X o'clock and when I went there they told me to my face that they would have NEVER quoted me that time and that person does not ...</td>\n",
       "      <td>4.0</td>\n",
       "    </tr>\n",
       "    <tr>\n",
       "      <th>2</th>\n",
       "      <td>I am absolutely in love with Sambalatte's cappuccino. It's fresh, dark and rich. If you like light and nutty tastes, this is not for you. If you enjoy dark coffee with some milk and foam, you can't go wrong.\\n\\nThe shop is very photogenic and the coffee mugs were adorable. It has \"Las Vegas' on ...</td>\n",
       "      <td>5.0</td>\n",
       "    </tr>\n",
       "    <tr>\n",
       "      <th>3</th>\n",
       "      <td>My wife and I accidentally stumbled upon this place when going to see a movie one afternoon. We love sushi, saw the word sushi, and decided to head in and we were not disappointed. The atmosphere was nice. The sushi chefs constantly engaged us in humorous and witty conversation. The fish was fre...</td>\n",
       "      <td>2.0</td>\n",
       "    </tr>\n",
       "    <tr>\n",
       "      <th>4</th>\n",
       "      <td>Came here during Speedstreet. Needed a place to sit and relax. Was seated promptly. They have a great craft beer selection and we needed some assistance in understanding the various offerings. Waiter was spot on with his recommendations. Pizza was ordered. They were very busy and the food order ...</td>\n",
       "      <td>4.0</td>\n",
       "    </tr>\n",
       "  </tbody>\n",
       "</table>\n",
       "</div>"
      ],
      "text/plain": [
       "                                                                                                                                                                                                                                                                                                        review  \\\n",
       "0  I had a bad experience with a competitor dentist, who refused to provide a standard cleaning. I had shopped around and read countless reviews to find a good dentist. \\n\\nIts a big office with 10+ dentists. The hygienists are great and well trained. They handle all the billing and scheduling righ...   \n",
       "1  This is the closest UPS Store to me and about three years ago I had a bad experience and stopped going there. \\n\\nBasically I was was told the notary would be there at X o'clock and when I went there they told me to my face that they would have NEVER quoted me that time and that person does not ...   \n",
       "2  I am absolutely in love with Sambalatte's cappuccino. It's fresh, dark and rich. If you like light and nutty tastes, this is not for you. If you enjoy dark coffee with some milk and foam, you can't go wrong.\\n\\nThe shop is very photogenic and the coffee mugs were adorable. It has \"Las Vegas' on ...   \n",
       "3  My wife and I accidentally stumbled upon this place when going to see a movie one afternoon. We love sushi, saw the word sushi, and decided to head in and we were not disappointed. The atmosphere was nice. The sushi chefs constantly engaged us in humorous and witty conversation. The fish was fre...   \n",
       "4  Came here during Speedstreet. Needed a place to sit and relax. Was seated promptly. They have a great craft beer selection and we needed some assistance in understanding the various offerings. Waiter was spot on with his recommendations. Pizza was ordered. They were very busy and the food order ...   \n",
       "\n",
       "   stars  \n",
       "0    5.0  \n",
       "1    4.0  \n",
       "2    5.0  \n",
       "3    2.0  \n",
       "4    4.0  "
      ]
     },
     "execution_count": 3,
     "metadata": {},
     "output_type": "execute_result"
    }
   ],
   "source": [
    "## Shufling the dataset\n",
    "df = df.reindex(np.random.permutation(df.index)).reset_index(drop=True)\n",
    "df.head()"
   ]
  },
  {
   "cell_type": "code",
   "execution_count": 4,
   "metadata": {},
   "outputs": [
    {
     "data": {
      "text/html": [
       "<div>\n",
       "<style>\n",
       "    .dataframe thead tr:only-child th {\n",
       "        text-align: right;\n",
       "    }\n",
       "\n",
       "    .dataframe thead th {\n",
       "        text-align: left;\n",
       "    }\n",
       "\n",
       "    .dataframe tbody tr th {\n",
       "        vertical-align: top;\n",
       "    }\n",
       "</style>\n",
       "<table border=\"2\" class=\"dataframe\">\n",
       "  <thead>\n",
       "    <tr style=\"text-align: right;\">\n",
       "      <th></th>\n",
       "      <th>review</th>\n",
       "      <th>stars</th>\n",
       "    </tr>\n",
       "  </thead>\n",
       "  <tbody>\n",
       "    <tr>\n",
       "      <th>0</th>\n",
       "      <td>Terrible service. With a 30 minute wait, my two friends and I went to the bar to grab a drink. The bartender didn't pay us (or any other patrons) a second of attention for the whole 25 minutes that we waited at the bar. Once we were seated outside, it took about 20 minutes to get our margaritas,...</td>\n",
       "      <td>2.0</td>\n",
       "    </tr>\n",
       "    <tr>\n",
       "      <th>1</th>\n",
       "      <td>Be a single woman customer at the bar before the arts and letters series and learn about poor and maybe gender biased service.  Terrible and dismissive service. I won't be back.</td>\n",
       "      <td>1.0</td>\n",
       "    </tr>\n",
       "    <tr>\n",
       "      <th>2</th>\n",
       "      <td>just an FYI, when I went they were no longer serving their carpaccio and marrow dish as their guy can't source good marrow anymore. Bummer. \\n\\nwe had a seared tuna app to start and it was great. lots of sweet/citrus flavours  with the tuna. Really good and refreshing. \\n\\nshared the cacio e pep...</td>\n",
       "      <td>4.0</td>\n",
       "    </tr>\n",
       "    <tr>\n",
       "      <th>3</th>\n",
       "      <td>Went there for lunch with my mother - her first time at an Indian restaurant - service and food was really good.  Will definitely be back.</td>\n",
       "      <td>4.0</td>\n",
       "    </tr>\n",
       "    <tr>\n",
       "      <th>4</th>\n",
       "      <td>We show up about 2 o'clock on a Tuesday and it's pretty slow. When we pulled up there was nobody out front to write our ticket. Sat there in the car for a couple minutes when finally a guy walked out. He's got his phone in his hand and takes his sweet time walking to the car so he can finish his...</td>\n",
       "      <td>1.0</td>\n",
       "    </tr>\n",
       "  </tbody>\n",
       "</table>\n",
       "</div>"
      ],
      "text/plain": [
       "                                                                                                                                                                                                                                                                                                        review  \\\n",
       "0  Terrible service. With a 30 minute wait, my two friends and I went to the bar to grab a drink. The bartender didn't pay us (or any other patrons) a second of attention for the whole 25 minutes that we waited at the bar. Once we were seated outside, it took about 20 minutes to get our margaritas,...   \n",
       "1                                                                                                                            Be a single woman customer at the bar before the arts and letters series and learn about poor and maybe gender biased service.  Terrible and dismissive service. I won't be back.   \n",
       "2  just an FYI, when I went they were no longer serving their carpaccio and marrow dish as their guy can't source good marrow anymore. Bummer. \\n\\nwe had a seared tuna app to start and it was great. lots of sweet/citrus flavours  with the tuna. Really good and refreshing. \\n\\nshared the cacio e pep...   \n",
       "3                                                                                                                                                                   Went there for lunch with my mother - her first time at an Indian restaurant - service and food was really good.  Will definitely be back.   \n",
       "4  We show up about 2 o'clock on a Tuesday and it's pretty slow. When we pulled up there was nobody out front to write our ticket. Sat there in the car for a couple minutes when finally a guy walked out. He's got his phone in his hand and takes his sweet time walking to the car so he can finish his...   \n",
       "\n",
       "   stars  \n",
       "0    2.0  \n",
       "1    1.0  \n",
       "2    4.0  \n",
       "3    4.0  \n",
       "4    1.0  "
      ]
     },
     "execution_count": 4,
     "metadata": {},
     "output_type": "execute_result"
    }
   ],
   "source": [
    "negative1 = df[df[\"stars\"]==1].head(100000)\n",
    "negative2 = df[df[\"stars\"]==2].head(100000)\n",
    "\n",
    "positive1 = df[df[\"stars\"]==4].head(100000)\n",
    "positive2 = df[df[\"stars\"]==5].head(100000)\n",
    "\n",
    "del df   # freeing up memory\n",
    "\n",
    "df = pd.DataFrame()\n",
    "df = df.append(negative1)\n",
    "df = df.append(negative2)\n",
    "df = df.append(positive1)\n",
    "df = df.append(positive2)\n",
    "\n",
    "del negative1\n",
    "del negative2\n",
    "del positive1\n",
    "del positive2\n",
    "\n",
    "df = df.reindex(np.random.permutation(df.index)).reset_index(drop=True)\n",
    "df.head()"
   ]
  },
  {
   "cell_type": "markdown",
   "metadata": {},
   "source": [
    "## Data cleaning\n",
    "\n",
    "Now, for cleaning the data, we take the following steps:\n",
    "\n",
    "* remove non alpha-numeric characters, \n",
    "* remove punctuation, \n",
    "* lower-case each word \n",
    "    "
   ]
  },
  {
   "cell_type": "code",
   "execution_count": 25,
   "metadata": {},
   "outputs": [
    {
     "data": {
      "text/html": [
       "<div>\n",
       "<style>\n",
       "    .dataframe thead tr:only-child th {\n",
       "        text-align: right;\n",
       "    }\n",
       "\n",
       "    .dataframe thead th {\n",
       "        text-align: left;\n",
       "    }\n",
       "\n",
       "    .dataframe tbody tr th {\n",
       "        vertical-align: top;\n",
       "    }\n",
       "</style>\n",
       "<table border=\"2\" class=\"dataframe\">\n",
       "  <thead>\n",
       "    <tr style=\"text-align: right;\">\n",
       "      <th></th>\n",
       "      <th>review</th>\n",
       "      <th>stars</th>\n",
       "    </tr>\n",
       "  </thead>\n",
       "  <tbody>\n",
       "    <tr>\n",
       "      <th>0</th>\n",
       "      <td>terrible service with a 30 minute wait my two friends and i went to the bar to grab a drink the bartender didn t pay us or any other patrons a second of attention for the whole 25 minutes that we waited at the bar once we were seated outside it took about 20 minutes to get our margaritas and an ...</td>\n",
       "      <td>2.0</td>\n",
       "    </tr>\n",
       "    <tr>\n",
       "      <th>1</th>\n",
       "      <td>be a single woman customer at the bar before the arts and letters series and learn about poor and maybe gender biased service terrible and dismissive service i won t be back</td>\n",
       "      <td>1.0</td>\n",
       "    </tr>\n",
       "    <tr>\n",
       "      <th>2</th>\n",
       "      <td>just an fyi when i went they were no longer serving their carpaccio and marrow dish as their guy can t source good marrow anymore bummer we had a seared tuna app to start and it was great lots of sweet citrus flavours with the tuna really good and refreshing shared the cacio e pepe pasta and toa...</td>\n",
       "      <td>4.0</td>\n",
       "    </tr>\n",
       "    <tr>\n",
       "      <th>3</th>\n",
       "      <td>went there for lunch with my mother her first time at an indian restaurant service and food was really good will definitely be back</td>\n",
       "      <td>4.0</td>\n",
       "    </tr>\n",
       "    <tr>\n",
       "      <th>4</th>\n",
       "      <td>we show up about 2 o clock on a tuesday and it s pretty slow when we pulled up there was nobody out front to write our ticket sat there in the car for a couple minutes when finally a guy walked out he s got his phone in his hand and takes his sweet time walking to the car so he can finish his te...</td>\n",
       "      <td>1.0</td>\n",
       "    </tr>\n",
       "  </tbody>\n",
       "</table>\n",
       "</div>"
      ],
      "text/plain": [
       "                                                                                                                                                                                                                                                                                                        review  \\\n",
       "0  terrible service with a 30 minute wait my two friends and i went to the bar to grab a drink the bartender didn t pay us or any other patrons a second of attention for the whole 25 minutes that we waited at the bar once we were seated outside it took about 20 minutes to get our margaritas and an ...   \n",
       "1                                                                                                                               be a single woman customer at the bar before the arts and letters series and learn about poor and maybe gender biased service terrible and dismissive service i won t be back    \n",
       "2  just an fyi when i went they were no longer serving their carpaccio and marrow dish as their guy can t source good marrow anymore bummer we had a seared tuna app to start and it was great lots of sweet citrus flavours with the tuna really good and refreshing shared the cacio e pepe pasta and toa...   \n",
       "3                                                                                                                                                                         went there for lunch with my mother her first time at an indian restaurant service and food was really good will definitely be back    \n",
       "4  we show up about 2 o clock on a tuesday and it s pretty slow when we pulled up there was nobody out front to write our ticket sat there in the car for a couple minutes when finally a guy walked out he s got his phone in his hand and takes his sweet time walking to the car so he can finish his te...   \n",
       "\n",
       "   stars  \n",
       "0    2.0  \n",
       "1    1.0  \n",
       "2    4.0  \n",
       "3    4.0  \n",
       "4    1.0  "
      ]
     },
     "execution_count": 25,
     "metadata": {},
     "output_type": "execute_result"
    }
   ],
   "source": [
    "df['review'] = df['review'].apply(lambda x:re.sub(r'\\W+', \" \",x))\n",
    "df['review'] = df['review'].apply(lambda x:x.lower())\n",
    "df.head()"
   ]
  },
  {
   "cell_type": "markdown",
   "metadata": {},
   "source": [
    "## Encode text\n",
    "\n",
    "With cleaned reviews, we now need to generate embeddings for each review. Text data as we have now cannot be directly fed into the model, so we need to: \n",
    "\n",
    "* encode each word to a unique numerical value. \n",
    "\n",
    "So, a review will be converted from being an array of words to an array of integer values. This can be done by adding an Embedding layer onto the network, but we need to generate that embedding map first."
   ]
  },
  {
   "cell_type": "markdown",
   "metadata": {},
   "source": [
    "* Keras provides a Tokenizer module which we can use to encode the texts. \n",
    "* After converting the texts to sequences, we can obtain the word_index. \n",
    "* We also need the reverse dictionary, so let’s build that as well. \n",
    "\n",
    "After this, we can generate encoded reviews by iterating through the texts, and mapping each word to it’s embedding value."
   ]
  },
  {
   "cell_type": "code",
   "execution_count": 27,
   "metadata": {
    "collapsed": true
   },
   "outputs": [],
   "source": [
    "# Complete this part of the code"
   ]
  },
  {
   "cell_type": "code",
   "execution_count": null,
   "metadata": {
    "collapsed": true
   },
   "outputs": [],
   "source": []
  }
 ],
 "metadata": {
  "kernelspec": {
   "display_name": "Python 3",
   "language": "python",
   "name": "python3"
  },
  "language_info": {
   "codemirror_mode": {
    "name": "ipython",
    "version": 3
   },
   "file_extension": ".py",
   "mimetype": "text/x-python",
   "name": "python",
   "nbconvert_exporter": "python",
   "pygments_lexer": "ipython3",
   "version": "3.5.3"
  }
 },
 "nbformat": 4,
 "nbformat_minor": 2
}
