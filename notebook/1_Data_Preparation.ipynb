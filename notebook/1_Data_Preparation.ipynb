{
 "cells": [
  {
   "cell_type": "markdown",
   "metadata": {},
   "source": [
    "## <center> Data Preparation </center>"
   ]
  },
  {
   "cell_type": "markdown",
   "metadata": {},
   "source": [
    "Sample data: \n",
    "\n",
    "* \n",
    "> “A-M-A-ZING!!!!!!!!!!!!!! LOVE THIS PLACE!!!!!!! Everything on the menu looked so good!! Garlic chicken was the BOMB!!!!!! MUST EAT AT THIS PLACE!!! I recommend ordering ahead before you go! Gets very busy!!!” — 5 Stars.\n",
    "\n",
    "* \n",
    "> “burgers are very big portions here. definitely order the onion ring tower to share…Milkshakes are tasty! My personal favourite — the vanilla one.” — 3 Stars.\n",
    "\n",
    "* \n",
    "> “Food is very bland — not authentic at all. meant to cater to the customers who have never eaten Vietnamese food before. Definitely will not be returning!” — 1 Stars\n",
    "\n",
    "The first part of the project is to prepare the data. As we saw in the examples above, the reviews are very distinct. \n",
    "* Some of them have symbols, \n",
    "* have weird punctuation symbols, \n",
    "* and some even have non-alphanumeric characters. \n",
    "\n",
    "We will clean these and keep the most relevant strings and words from the reviews. "
   ]
  },
  {
   "cell_type": "markdown",
   "metadata": {},
   "source": [
    "## Importing libraries\n",
    "\n",
    "Importing necessary libraries to assist us in data preparation"
   ]
  },
  {
   "cell_type": "code",
   "execution_count": 8,
   "metadata": {
    "collapsed": true
   },
   "outputs": [],
   "source": [
    "import pandas as pd    # to create a dataframe from JSON datafile\n",
    "import json            # to read the dataset, because dataset is initially in the JSON format\n",
    "import numpy as np     # to handle large python list as numpy arrays - makes the process faster. Used in creating dataFrame\n",
    "import matplotlib.pyplot as plt # to draw plot - for visualization\n",
    "from collections import Counter # to counter class distribution in the dataset\n",
    "\n",
    "pd.set_option('max_colwidth', 300,\"html.border\",2)  # For aesthetic purposes\n",
    "from IPython.display import display, HTML           # For aesthetic purposes"
   ]
  },
  {
   "cell_type": "markdown",
   "metadata": {},
   "source": [
    "## Read the dataset\n",
    "\n",
    "The dataset downloaded from yelp is in JSON format as below:  \n",
    "    \n",
    "* > {\"review_id\":\"v0i_UHJMo_hPBq9bxWvW4w\",\"user_id\":\"bv2nCi5Qv5vroFiqKGopiw\",\"business_id\":\"0W4lkclzZThpx3V65bVgig\",\"stars\":5,\"date\":\"2016-05-28\",\"text\":\"Love the staff, love the meat, love the place. Prepare for a long line around lunch or dinner hours. \\n\\nThey ask you how you want you meat, lean or something maybe, I can't remember. Just say you don't want it too fatty. \\n\\nGet a half sour pickle and a hot pepper. Hand cut french fries too.\",\"useful\":0,\"funny\":0,\"cool\":0}\n",
    "\n",
    "* > {\"review_id\":\"vkVSCC7xljjrAI4UGfnKEQ\",\"user_id\":\"bv2nCi5Qv5vroFiqKGopiw\",\"business_id\":\"AEx2SYEUJmTxVVB18LlCwA\",\"stars\":5,\"date\":\"2016-05-28\",\"text\":\"Super simple place but amazing nonetheless. It's been around since the 30's and they still serve the same thing they started with: a bologna and salami sandwich with mustard. \\n\\nStaff was very helpful and friendly.\",\"useful\":0,\"funny\":0,\"cool\":0}\n",
    "\n",
    "It is  a 4.2G file - *review.json* \n",
    "\n",
    "I plan to just read the *text* and *stars* from the review and build a pandas dataset out of it.\n",
    "\n",
    "Let's do this."
   ]
  },
  {
   "cell_type": "code",
   "execution_count": 38,
   "metadata": {},
   "outputs": [
    {
     "name": "stdout",
     "output_type": "stream",
     "text": [
      "Number of records read : 5261669\n",
      "Sample data : \n"
     ]
    },
    {
     "data": {
      "text/html": [
       "<div>\n",
       "<style>\n",
       "    .dataframe thead tr:only-child th {\n",
       "        text-align: right;\n",
       "    }\n",
       "\n",
       "    .dataframe thead th {\n",
       "        text-align: left;\n",
       "    }\n",
       "\n",
       "    .dataframe tbody tr th {\n",
       "        vertical-align: top;\n",
       "    }\n",
       "</style>\n",
       "<table border=\"2\" class=\"dataframe\">\n",
       "  <thead>\n",
       "    <tr style=\"text-align: right;\">\n",
       "      <th></th>\n",
       "      <th>review</th>\n",
       "      <th>stars</th>\n",
       "    </tr>\n",
       "  </thead>\n",
       "  <tbody>\n",
       "    <tr>\n",
       "      <th>0</th>\n",
       "      <td>Love the staff, love the meat, love the place. Prepare for a long line around lunch or dinner hours. \\n\\nThey ask you how you want you meat, lean or something maybe, I can't remember. Just say you don't want it too fatty. \\n\\nGet a half sour pickle and a hot pepper. Hand cut french fries too.</td>\n",
       "      <td>5</td>\n",
       "    </tr>\n",
       "    <tr>\n",
       "      <th>1</th>\n",
       "      <td>Super simple place but amazing nonetheless. It's been around since the 30's and they still serve the same thing they started with: a bologna and salami sandwich with mustard. \\n\\nStaff was very helpful and friendly.</td>\n",
       "      <td>5</td>\n",
       "    </tr>\n",
       "    <tr>\n",
       "      <th>2</th>\n",
       "      <td>Small unassuming place that changes their menu every so often. Cool decor and vibe inside their 30 seat restaurant. Call for a reservation. \\n\\nWe had their beef tartar and pork belly to start and a salmon dish and lamb meal for mains. Everything was incredible! I could go on at length about how...</td>\n",
       "      <td>5</td>\n",
       "    </tr>\n",
       "    <tr>\n",
       "      <th>3</th>\n",
       "      <td>Lester's is located in a beautiful neighborhood and has been there since 1951. They are known for smoked meat which most deli's have but their brisket sandwich is what I come to montreal for. They've got about 12 seats outside to go along with the inside. \\n\\nThe smoked meat is up there in quali...</td>\n",
       "      <td>5</td>\n",
       "    </tr>\n",
       "    <tr>\n",
       "      <th>4</th>\n",
       "      <td>Love coming here. Yes the place always needs the floor swept but when you give out  peanuts in the shell how won't it always be a bit dirty. \\n\\nThe food speaks for itself, so good. Burgers are made to order and the meat is put on the grill when you order your sandwich. Getting the small burger ...</td>\n",
       "      <td>4</td>\n",
       "    </tr>\n",
       "  </tbody>\n",
       "</table>\n",
       "</div>"
      ],
      "text/plain": [
       "                                                                                                                                                                                                                                                                                                        review  stars\n",
       "0        Love the staff, love the meat, love the place. Prepare for a long line around lunch or dinner hours. \\n\\nThey ask you how you want you meat, lean or something maybe, I can't remember. Just say you don't want it too fatty. \\n\\nGet a half sour pickle and a hot pepper. Hand cut french fries too.      5\n",
       "1                                                                                      Super simple place but amazing nonetheless. It's been around since the 30's and they still serve the same thing they started with: a bologna and salami sandwich with mustard. \\n\\nStaff was very helpful and friendly.      5\n",
       "2  Small unassuming place that changes their menu every so often. Cool decor and vibe inside their 30 seat restaurant. Call for a reservation. \\n\\nWe had their beef tartar and pork belly to start and a salmon dish and lamb meal for mains. Everything was incredible! I could go on at length about how...      5\n",
       "3  Lester's is located in a beautiful neighborhood and has been there since 1951. They are known for smoked meat which most deli's have but their brisket sandwich is what I come to montreal for. They've got about 12 seats outside to go along with the inside. \\n\\nThe smoked meat is up there in quali...      5\n",
       "4  Love coming here. Yes the place always needs the floor swept but when you give out  peanuts in the shell how won't it always be a bit dirty. \\n\\nThe food speaks for itself, so good. Burgers are made to order and the meat is put on the grill when you order your sandwich. Getting the small burger ...      4"
      ]
     },
     "metadata": {},
     "output_type": "display_data"
    }
   ],
   "source": [
    "def readData(reviewJsonFilePath, outputDataFrameFilePath):\n",
    "    df = pd.DataFrame(columns=['review','stars'])\n",
    "    reviews = []    # Aggregated list of reviews\n",
    "    stars = []      # Aggregated list of stars\n",
    "    with open(reviewJsonFilePath, \"r\") as f:\n",
    "        number_of_records = 0\n",
    "        for line in f:\n",
    "            line = json.loads(line)\n",
    "            reviews.append(line[\"text\"])\n",
    "            stars.append(line['stars'])\n",
    "            number_of_records += 1\n",
    "            \n",
    "        df[\"review\"] = reviews\n",
    "        df[\"stars\"] = stars\n",
    "        \n",
    "    print (\"Number of records read : {0}\".format(number_of_records))      \n",
    "    print (\"Sample data : \")\n",
    "    display(df.head())\n",
    "    return df\n",
    "                \n",
    "            \n",
    "reviewJsonFilePath = \"../data/review.json\"\n",
    "outputDataFrameFilePath = \"../data/dataset.csv\"\n",
    "df = readData(reviewJsonFilePath, outputDataFrameFilePath)            "
   ]
  },
  {
   "cell_type": "code",
   "execution_count": 39,
   "metadata": {
    "collapsed": true
   },
   "outputs": [],
   "source": [
    "## Saving the dataset file onto disk for future use\n",
    "df.to_csv(outputDataFrameFilePath, index=False)"
   ]
  },
  {
   "cell_type": "markdown",
   "metadata": {},
   "source": [
    "## Class distribution\n",
    "\n",
    "Let us look at the class distribution of label - *stars* in our case"
   ]
  },
  {
   "cell_type": "code",
   "execution_count": 11,
   "metadata": {},
   "outputs": [
    {
     "data": {
      "image/png": "[encoded data removed]",
      "text/plain": [
       "<Figure size 432x288 with 1 Axes>"
      ]
     },
     "metadata": {},
     "output_type": "display_data"
    }
   ],
   "source": [
    "#df = pd.read_csv(\"../data/dataset.csv\")\n",
    "df['stars'].plot.hist()\n",
    "plt.show()"
   ]
  },
  {
   "cell_type": "code",
   "execution_count": 12,
   "metadata": {},
   "outputs": [
    {
     "name": "stdout",
     "output_type": "stream",
     "text": [
      "Counter({5.0: 2253348, 4.0: 1223316, 1.0: 731363, 3.0: 615481, 2.0: 438161, nan: 1, nan: 1})\n",
      "Percentage distribution of labels : \n"
     ]
    },
    {
     "data": {
      "text/plain": [
       "[(nan, 1.900536920685463e-05),\n",
       " (1.0, 13.899823839232821),\n",
       " (2.0, 8.327411577044632),\n",
       " (3.0, 11.697443644804094),\n",
       " (4.0, 23.249572236652575),\n",
       " (5.0, 42.82571069152746),\n",
       " (nan, 1.900536920685463e-05)]"
      ]
     },
     "execution_count": 12,
     "metadata": {},
     "output_type": "execute_result"
    }
   ],
   "source": [
    "c = Counter(df['stars'])\n",
    "print (c)\n",
    "print (\"Percentage distribution of labels : \")\n",
    "[(i, c[i] / len(df) * 100.0) for i in c]"
   ]
  },
  {
   "cell_type": "markdown",
   "metadata": {},
   "source": [
    "There is definately a class bias :\n",
    "* 14% of the label values are for stars 1\n",
    "* 8% of the label values for stars 2\n",
    "* 12% of the label values for stars 3\n",
    "* 23% of the label values for stars 4\n",
    "* 42% of the label values for stars 5\n",
    "\n"
   ]
  },
  {
   "cell_type": "code",
   "execution_count": null,
   "metadata": {
    "collapsed": true
   },
   "outputs": [],
   "source": []
  }
 ],
 "metadata": {
  "kernelspec": {
   "display_name": "Python 3",
   "language": "python",
   "name": "python3"
  },
  "language_info": {
   "codemirror_mode": {
    "name": "ipython",
    "version": 3
   },
   "file_extension": ".py",
   "mimetype": "text/x-python",
   "name": "python",
   "nbconvert_exporter": "python",
   "pygments_lexer": "ipython3",
   "version": "3.5.3"
  }
 },
 "nbformat": 4,
 "nbformat_minor": 2
}
