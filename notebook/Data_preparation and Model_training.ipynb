{
 "cells": [
  {
   "cell_type": "markdown",
   "metadata": {},
   "source": [
    "## <center> Data Preparation and Model Training</center>"
   ]
  },
  {
   "cell_type": "markdown",
   "metadata": {},
   "source": [
    "Sample data: \n",
    "\n",
    "* \n",
    "> “A-M-A-ZING!!!!!!!!!!!!!! LOVE THIS PLACE!!!!!!! Everything on the menu looked so good!! Garlic chicken was the BOMB!!!!!! MUST EAT AT THIS PLACE!!! I recommend ordering ahead before you go! Gets very busy!!!” — 5 Stars.\n",
    "\n",
    "* \n",
    "> “burgers are very big portions here. definitely order the onion ring tower to share…Milkshakes are tasty! My personal favourite — the vanilla one.” — 3 Stars.\n",
    "\n",
    "* \n",
    "> “Food is very bland — not authentic at all. meant to cater to the customers who have never eaten Vietnamese food before. Definitely will not be returning!” — 1 Stars\n",
    "\n",
    "The first part of the project is to prepare the data. As we saw in the examples above, the reviews are very distinct. \n",
    "* Some of them have symbols, \n",
    "* have weird punctuation symbols, \n",
    "* and some even have non-alphanumeric characters. \n",
    "\n",
    "We will clean these and keep the most relevant strings and words from the reviews. "
   ]
  },
  {
   "cell_type": "markdown",
   "metadata": {},
   "source": [
    "## Importing libraries\n",
    "\n",
    "Importing necessary libraries to assist us in data preparation"
   ]
  },
  {
   "cell_type": "code",
   "execution_count": 16,
   "metadata": {},
   "outputs": [],
   "source": [
    "import pandas as pd    # to create a dataframe from JSON datafile\n",
    "import json            # to read the dataset, because dataset is initially in the JSON format\n",
    "import numpy as np     # to handle large python list as numpy arrays - makes the process faster. Used in creating dataFrame\n",
    "import matplotlib.pyplot as plt # to draw plot - for visualization\n",
    "from collections import Counter # to counter class distribution in the dataset\n",
    "import re              # for data cleaning\n",
    "import seaborn as sns  # for distribution plot\n",
    "import pickle          # to save tokenizer\n",
    "\n",
    "\n",
    "from keras.preprocessing.text import Tokenizer # for converting words to numbers\n",
    "from keras.preprocessing.sequence import pad_sequences # to pad sentences which are less than defined length\n",
    "from keras.models import Sequential\n",
    "from keras.layers import Dense, Dropout, Embedding, LSTM, SpatialDropout1D, Input, Activation\n",
    "from keras.models import Model\n",
    "from sklearn.model_selection import train_test_split\n",
    "from keras.utils.np_utils import to_categorical\n",
    "\n",
    "pd.set_option('max_colwidth', 300,\"html.border\",2)  # For aesthetic purposes\n",
    "from IPython.display import display, HTML           # For aesthetic purposes"
   ]
  },
  {
   "cell_type": "markdown",
   "metadata": {},
   "source": [
    "## Read the dataset\n",
    "\n",
    "The dataset downloaded from yelp is in JSON format as below:  \n",
    "    \n",
    "* > {\"review_id\":\"v0i_UHJMo_hPBq9bxWvW4w\",\"user_id\":\"bv2nCi5Qv5vroFiqKGopiw\",\"business_id\":\"0W4lkclzZThpx3V65bVgig\",\"stars\":5,\"date\":\"2016-05-28\",\"text\":\"Love the staff, love the meat, love the place. Prepare for a long line around lunch or dinner hours. \\n\\nThey ask you how you want you meat, lean or something maybe, I can't remember. Just say you don't want it too fatty. \\n\\nGet a half sour pickle and a hot pepper. Hand cut french fries too.\",\"useful\":0,\"funny\":0,\"cool\":0}\n",
    "\n",
    "* > {\"review_id\":\"vkVSCC7xljjrAI4UGfnKEQ\",\"user_id\":\"bv2nCi5Qv5vroFiqKGopiw\",\"business_id\":\"AEx2SYEUJmTxVVB18LlCwA\",\"stars\":5,\"date\":\"2016-05-28\",\"text\":\"Super simple place but amazing nonetheless. It's been around since the 30's and they still serve the same thing they started with: a bologna and salami sandwich with mustard. \\n\\nStaff was very helpful and friendly.\",\"useful\":0,\"funny\":0,\"cool\":0}\n",
    "\n",
    "It is  a 4.2G file - *review.json* \n",
    "\n",
    "I plan to just read the *text* and *stars* from the review and build a pandas dataset out of it.\n",
    "\n",
    "Let's do this."
   ]
  },
  {
   "cell_type": "code",
   "execution_count": 38,
   "metadata": {},
   "outputs": [
    {
     "name": "stdout",
     "output_type": "stream",
     "text": [
      "Number of records read : 5261669\n",
      "Sample data : \n"
     ]
    },
    {
     "data": {
      "text/html": [
       "<div>\n",
       "<style>\n",
       "    .dataframe thead tr:only-child th {\n",
       "        text-align: right;\n",
       "    }\n",
       "\n",
       "    .dataframe thead th {\n",
       "        text-align: left;\n",
       "    }\n",
       "\n",
       "    .dataframe tbody tr th {\n",
       "        vertical-align: top;\n",
       "    }\n",
       "</style>\n",
       "<table border=\"2\" class=\"dataframe\">\n",
       "  <thead>\n",
       "    <tr style=\"text-align: right;\">\n",
       "      <th></th>\n",
       "      <th>review</th>\n",
       "      <th>stars</th>\n",
       "    </tr>\n",
       "  </thead>\n",
       "  <tbody>\n",
       "    <tr>\n",
       "      <th>0</th>\n",
       "      <td>Love the staff, love the meat, love the place. Prepare for a long line around lunch or dinner hours. \\n\\nThey ask you how you want you meat, lean or something maybe, I can't remember. Just say you don't want it too fatty. \\n\\nGet a half sour pickle and a hot pepper. Hand cut french fries too.</td>\n",
       "      <td>5</td>\n",
       "    </tr>\n",
       "    <tr>\n",
       "      <th>1</th>\n",
       "      <td>Super simple place but amazing nonetheless. It's been around since the 30's and they still serve the same thing they started with: a bologna and salami sandwich with mustard. \\n\\nStaff was very helpful and friendly.</td>\n",
       "      <td>5</td>\n",
       "    </tr>\n",
       "    <tr>\n",
       "      <th>2</th>\n",
       "      <td>Small unassuming place that changes their menu every so often. Cool decor and vibe inside their 30 seat restaurant. Call for a reservation. \\n\\nWe had their beef tartar and pork belly to start and a salmon dish and lamb meal for mains. Everything was incredible! I could go on at length about how...</td>\n",
       "      <td>5</td>\n",
       "    </tr>\n",
       "    <tr>\n",
       "      <th>3</th>\n",
       "      <td>Lester's is located in a beautiful neighborhood and has been there since 1951. They are known for smoked meat which most deli's have but their brisket sandwich is what I come to montreal for. They've got about 12 seats outside to go along with the inside. \\n\\nThe smoked meat is up there in quali...</td>\n",
       "      <td>5</td>\n",
       "    </tr>\n",
       "    <tr>\n",
       "      <th>4</th>\n",
       "      <td>Love coming here. Yes the place always needs the floor swept but when you give out  peanuts in the shell how won't it always be a bit dirty. \\n\\nThe food speaks for itself, so good. Burgers are made to order and the meat is put on the grill when you order your sandwich. Getting the small burger ...</td>\n",
       "      <td>4</td>\n",
       "    </tr>\n",
       "  </tbody>\n",
       "</table>\n",
       "</div>"
      ],
      "text/plain": [
       "                                                                                                                                                                                                                                                                                                        review  stars\n",
       "0        Love the staff, love the meat, love the place. Prepare for a long line around lunch or dinner hours. \\n\\nThey ask you how you want you meat, lean or something maybe, I can't remember. Just say you don't want it too fatty. \\n\\nGet a half sour pickle and a hot pepper. Hand cut french fries too.      5\n",
       "1                                                                                      Super simple place but amazing nonetheless. It's been around since the 30's and they still serve the same thing they started with: a bologna and salami sandwich with mustard. \\n\\nStaff was very helpful and friendly.      5\n",
       "2  Small unassuming place that changes their menu every so often. Cool decor and vibe inside their 30 seat restaurant. Call for a reservation. \\n\\nWe had their beef tartar and pork belly to start and a salmon dish and lamb meal for mains. Everything was incredible! I could go on at length about how...      5\n",
       "3  Lester's is located in a beautiful neighborhood and has been there since 1951. They are known for smoked meat which most deli's have but their brisket sandwich is what I come to montreal for. They've got about 12 seats outside to go along with the inside. \\n\\nThe smoked meat is up there in quali...      5\n",
       "4  Love coming here. Yes the place always needs the floor swept but when you give out  peanuts in the shell how won't it always be a bit dirty. \\n\\nThe food speaks for itself, so good. Burgers are made to order and the meat is put on the grill when you order your sandwich. Getting the small burger ...      4"
      ]
     },
     "metadata": {},
     "output_type": "display_data"
    }
   ],
   "source": [
    "def readData(reviewJsonFilePath, outputDataFrameFilePath):\n",
    "    df = pd.DataFrame(columns=['review','stars'])\n",
    "    reviews = []    # Aggregated list of reviews\n",
    "    stars = []      # Aggregated list of stars\n",
    "    with open(reviewJsonFilePath, \"r\") as f:\n",
    "        number_of_records = 0\n",
    "        for line in f:\n",
    "            line = json.loads(line)\n",
    "            reviews.append(line[\"text\"])\n",
    "            stars.append(line['stars'])\n",
    "            number_of_records += 1\n",
    "            \n",
    "        df[\"review\"] = reviews\n",
    "        df[\"stars\"] = stars\n",
    "        \n",
    "    print (\"Number of records read : {0}\".format(number_of_records))      \n",
    "    print (\"Sample data : \")\n",
    "    display(df.head())\n",
    "    return df\n",
    "                \n",
    "            \n",
    "reviewJsonFilePath = \"../data/review.json\"\n",
    "outputDataFrameFilePath = \"../data/dataset.csv\"\n",
    "df = readData(reviewJsonFilePath, outputDataFrameFilePath)            "
   ]
  },
  {
   "cell_type": "code",
   "execution_count": 39,
   "metadata": {
    "collapsed": true
   },
   "outputs": [],
   "source": [
    "## Saving the dataset file onto disk for future use\n",
    "df.to_csv(outputDataFrameFilePath, index=False)"
   ]
  },
  {
   "cell_type": "markdown",
   "metadata": {},
   "source": [
    "## Class distribution\n",
    "\n",
    "Let us look at the class distribution of label - *stars* in our case"
   ]
  },
  {
   "cell_type": "code",
   "execution_count": 2,
   "metadata": {},
   "outputs": [
    {
     "data": {
      "image/png": "[encoded data removed]",
      "text/plain": [
       "<Figure size 432x288 with 1 Axes>"
      ]
     },
     "metadata": {},
     "output_type": "display_data"
    }
   ],
   "source": [
    "#df = pd.read_csv(\"../data/dataset.csv\")\n",
    "df['stars'].plot.hist()\n",
    "plt.show()"
   ]
  },
  {
   "cell_type": "code",
   "execution_count": 12,
   "metadata": {},
   "outputs": [
    {
     "name": "stdout",
     "output_type": "stream",
     "text": [
      "Counter({5.0: 2253348, 4.0: 1223316, 1.0: 731363, 3.0: 615481, 2.0: 438161, nan: 1, nan: 1})\n",
      "Percentage distribution of labels : \n"
     ]
    },
    {
     "data": {
      "text/plain": [
       "[(nan, 1.900536920685463e-05),\n",
       " (1.0, 13.899823839232821),\n",
       " (2.0, 8.327411577044632),\n",
       " (3.0, 11.697443644804094),\n",
       " (4.0, 23.249572236652575),\n",
       " (5.0, 42.82571069152746),\n",
       " (nan, 1.900536920685463e-05)]"
      ]
     },
     "execution_count": 12,
     "metadata": {},
     "output_type": "execute_result"
    }
   ],
   "source": [
    "c = Counter(df['stars'])\n",
    "print (c)\n",
    "print (\"Percentage distribution of labels : \")\n",
    "[(i, c[i] / len(df) * 100.0) for i in c]"
   ]
  },
  {
   "cell_type": "markdown",
   "metadata": {},
   "source": [
    "There is definately a class bias :\n",
    "* 14% of the label values are for stars 1\n",
    "* 8% of the label values for stars 2\n",
    "* 12% of the label values for stars 3\n",
    "* 23% of the label values for stars 4\n",
    "* 42% of the label values for stars 5\n",
    "\n"
   ]
  },
  {
   "cell_type": "markdown",
   "metadata": {},
   "source": [
    "## Sampling\n",
    "\n",
    "We are looking at 2 criteria when creating the dataset for training and testing purposes. \n",
    "\n",
    "* First, we skip over all reviews that have 3 stars, because they are neutral and we are only predicting positive or negative sentiment. \n",
    "* The second criteria is maintaining equal number of positive and negative reviews. \n",
    "\n",
    "If you load in the data directly, you’ll notice that there are a lot more + reviews than — reviews, with almost a 70%-30% split. We want to keep our training data equally balanced. \n",
    "\n",
    "In the code below, we sample the same number of reviews, which in this case is 200,000 for each sentiment (positive and negative) : \n",
    "* 100,000 - stars 1 (negative sentiment) \n",
    "* 100,000 - stars 2 (negative sentiment)\n",
    "* 100,000 - stars 4 (positive sentiment)\n",
    "* 100,000 - stars 5 (positive sentiment)"
   ]
  },
  {
   "cell_type": "code",
   "execution_count": 3,
   "metadata": {},
   "outputs": [
    {
     "data": {
      "text/html": [
       "<div>\n",
       "<style>\n",
       "    .dataframe thead tr:only-child th {\n",
       "        text-align: right;\n",
       "    }\n",
       "\n",
       "    .dataframe thead th {\n",
       "        text-align: left;\n",
       "    }\n",
       "\n",
       "    .dataframe tbody tr th {\n",
       "        vertical-align: top;\n",
       "    }\n",
       "</style>\n",
       "<table border=\"2\" class=\"dataframe\">\n",
       "  <thead>\n",
       "    <tr style=\"text-align: right;\">\n",
       "      <th></th>\n",
       "      <th>review</th>\n",
       "      <th>stars</th>\n",
       "    </tr>\n",
       "  </thead>\n",
       "  <tbody>\n",
       "    <tr>\n",
       "      <th>0</th>\n",
       "      <td>I had a bad experience with a competitor dentist, who refused to provide a standard cleaning. I had shopped around and read countless reviews to find a good dentist. \\n\\nIts a big office with 10+ dentists. The hygienists are great and well trained. They handle all the billing and scheduling righ...</td>\n",
       "      <td>5.0</td>\n",
       "    </tr>\n",
       "    <tr>\n",
       "      <th>1</th>\n",
       "      <td>This is the closest UPS Store to me and about three years ago I had a bad experience and stopped going there. \\n\\nBasically I was was told the notary would be there at X o'clock and when I went there they told me to my face that they would have NEVER quoted me that time and that person does not ...</td>\n",
       "      <td>4.0</td>\n",
       "    </tr>\n",
       "    <tr>\n",
       "      <th>2</th>\n",
       "      <td>I am absolutely in love with Sambalatte's cappuccino. It's fresh, dark and rich. If you like light and nutty tastes, this is not for you. If you enjoy dark coffee with some milk and foam, you can't go wrong.\\n\\nThe shop is very photogenic and the coffee mugs were adorable. It has \"Las Vegas' on ...</td>\n",
       "      <td>5.0</td>\n",
       "    </tr>\n",
       "    <tr>\n",
       "      <th>3</th>\n",
       "      <td>My wife and I accidentally stumbled upon this place when going to see a movie one afternoon. We love sushi, saw the word sushi, and decided to head in and we were not disappointed. The atmosphere was nice. The sushi chefs constantly engaged us in humorous and witty conversation. The fish was fre...</td>\n",
       "      <td>2.0</td>\n",
       "    </tr>\n",
       "    <tr>\n",
       "      <th>4</th>\n",
       "      <td>Came here during Speedstreet. Needed a place to sit and relax. Was seated promptly. They have a great craft beer selection and we needed some assistance in understanding the various offerings. Waiter was spot on with his recommendations. Pizza was ordered. They were very busy and the food order ...</td>\n",
       "      <td>4.0</td>\n",
       "    </tr>\n",
       "  </tbody>\n",
       "</table>\n",
       "</div>"
      ],
      "text/plain": [
       "                                                                                                                                                                                                                                                                                                        review  \\\n",
       "0  I had a bad experience with a competitor dentist, who refused to provide a standard cleaning. I had shopped around and read countless reviews to find a good dentist. \\n\\nIts a big office with 10+ dentists. The hygienists are great and well trained. They handle all the billing and scheduling righ...   \n",
       "1  This is the closest UPS Store to me and about three years ago I had a bad experience and stopped going there. \\n\\nBasically I was was told the notary would be there at X o'clock and when I went there they told me to my face that they would have NEVER quoted me that time and that person does not ...   \n",
       "2  I am absolutely in love with Sambalatte's cappuccino. It's fresh, dark and rich. If you like light and nutty tastes, this is not for you. If you enjoy dark coffee with some milk and foam, you can't go wrong.\\n\\nThe shop is very photogenic and the coffee mugs were adorable. It has \"Las Vegas' on ...   \n",
       "3  My wife and I accidentally stumbled upon this place when going to see a movie one afternoon. We love sushi, saw the word sushi, and decided to head in and we were not disappointed. The atmosphere was nice. The sushi chefs constantly engaged us in humorous and witty conversation. The fish was fre...   \n",
       "4  Came here during Speedstreet. Needed a place to sit and relax. Was seated promptly. They have a great craft beer selection and we needed some assistance in understanding the various offerings. Waiter was spot on with his recommendations. Pizza was ordered. They were very busy and the food order ...   \n",
       "\n",
       "   stars  \n",
       "0    5.0  \n",
       "1    4.0  \n",
       "2    5.0  \n",
       "3    2.0  \n",
       "4    4.0  "
      ]
     },
     "execution_count": 3,
     "metadata": {},
     "output_type": "execute_result"
    }
   ],
   "source": [
    "## Shufling the dataset\n",
    "df = df.reindex(np.random.permutation(df.index)).reset_index(drop=True)\n",
    "df.head()"
   ]
  },
  {
   "cell_type": "code",
   "execution_count": 4,
   "metadata": {},
   "outputs": [
    {
     "data": {
      "text/html": [
       "<div>\n",
       "<style>\n",
       "    .dataframe thead tr:only-child th {\n",
       "        text-align: right;\n",
       "    }\n",
       "\n",
       "    .dataframe thead th {\n",
       "        text-align: left;\n",
       "    }\n",
       "\n",
       "    .dataframe tbody tr th {\n",
       "        vertical-align: top;\n",
       "    }\n",
       "</style>\n",
       "<table border=\"2\" class=\"dataframe\">\n",
       "  <thead>\n",
       "    <tr style=\"text-align: right;\">\n",
       "      <th></th>\n",
       "      <th>review</th>\n",
       "      <th>stars</th>\n",
       "    </tr>\n",
       "  </thead>\n",
       "  <tbody>\n",
       "    <tr>\n",
       "      <th>0</th>\n",
       "      <td>Terrible service. With a 30 minute wait, my two friends and I went to the bar to grab a drink. The bartender didn't pay us (or any other patrons) a second of attention for the whole 25 minutes that we waited at the bar. Once we were seated outside, it took about 20 minutes to get our margaritas,...</td>\n",
       "      <td>2.0</td>\n",
       "    </tr>\n",
       "    <tr>\n",
       "      <th>1</th>\n",
       "      <td>Be a single woman customer at the bar before the arts and letters series and learn about poor and maybe gender biased service.  Terrible and dismissive service. I won't be back.</td>\n",
       "      <td>1.0</td>\n",
       "    </tr>\n",
       "    <tr>\n",
       "      <th>2</th>\n",
       "      <td>just an FYI, when I went they were no longer serving their carpaccio and marrow dish as their guy can't source good marrow anymore. Bummer. \\n\\nwe had a seared tuna app to start and it was great. lots of sweet/citrus flavours  with the tuna. Really good and refreshing. \\n\\nshared the cacio e pep...</td>\n",
       "      <td>4.0</td>\n",
       "    </tr>\n",
       "    <tr>\n",
       "      <th>3</th>\n",
       "      <td>Went there for lunch with my mother - her first time at an Indian restaurant - service and food was really good.  Will definitely be back.</td>\n",
       "      <td>4.0</td>\n",
       "    </tr>\n",
       "    <tr>\n",
       "      <th>4</th>\n",
       "      <td>We show up about 2 o'clock on a Tuesday and it's pretty slow. When we pulled up there was nobody out front to write our ticket. Sat there in the car for a couple minutes when finally a guy walked out. He's got his phone in his hand and takes his sweet time walking to the car so he can finish his...</td>\n",
       "      <td>1.0</td>\n",
       "    </tr>\n",
       "  </tbody>\n",
       "</table>\n",
       "</div>"
      ],
      "text/plain": [
       "                                                                                                                                                                                                                                                                                                        review  \\\n",
       "0  Terrible service. With a 30 minute wait, my two friends and I went to the bar to grab a drink. The bartender didn't pay us (or any other patrons) a second of attention for the whole 25 minutes that we waited at the bar. Once we were seated outside, it took about 20 minutes to get our margaritas,...   \n",
       "1                                                                                                                            Be a single woman customer at the bar before the arts and letters series and learn about poor and maybe gender biased service.  Terrible and dismissive service. I won't be back.   \n",
       "2  just an FYI, when I went they were no longer serving their carpaccio and marrow dish as their guy can't source good marrow anymore. Bummer. \\n\\nwe had a seared tuna app to start and it was great. lots of sweet/citrus flavours  with the tuna. Really good and refreshing. \\n\\nshared the cacio e pep...   \n",
       "3                                                                                                                                                                   Went there for lunch with my mother - her first time at an Indian restaurant - service and food was really good.  Will definitely be back.   \n",
       "4  We show up about 2 o'clock on a Tuesday and it's pretty slow. When we pulled up there was nobody out front to write our ticket. Sat there in the car for a couple minutes when finally a guy walked out. He's got his phone in his hand and takes his sweet time walking to the car so he can finish his...   \n",
       "\n",
       "   stars  \n",
       "0    2.0  \n",
       "1    1.0  \n",
       "2    4.0  \n",
       "3    4.0  \n",
       "4    1.0  "
      ]
     },
     "execution_count": 4,
     "metadata": {},
     "output_type": "execute_result"
    }
   ],
   "source": [
    "negative1 = df[df[\"stars\"]==1].head(100000)\n",
    "negative2 = df[df[\"stars\"]==2].head(100000)\n",
    "\n",
    "positive1 = df[df[\"stars\"]==4].head(100000)\n",
    "positive2 = df[df[\"stars\"]==5].head(100000)\n",
    "\n",
    "del df   # freeing up memory\n",
    "\n",
    "df = pd.DataFrame()\n",
    "df = df.append(negative1)\n",
    "df = df.append(negative2)\n",
    "df = df.append(positive1)\n",
    "df = df.append(positive2)\n",
    "\n",
    "del negative1\n",
    "del negative2\n",
    "del positive1\n",
    "del positive2\n",
    "\n",
    "df = df.reindex(np.random.permutation(df.index)).reset_index(drop=True)\n",
    "df.head()"
   ]
  },
  {
   "cell_type": "markdown",
   "metadata": {},
   "source": [
    "## Data cleaning\n",
    "\n",
    "Now, for cleaning the data, we take the following steps:\n",
    "\n",
    "* remove non alpha-numeric characters, \n",
    "* remove punctuation, \n",
    "* lower-case each word \n",
    "    "
   ]
  },
  {
   "cell_type": "code",
   "execution_count": 27,
   "metadata": {},
   "outputs": [
    {
     "data": {
      "text/html": [
       "<div>\n",
       "<style>\n",
       "    .dataframe thead tr:only-child th {\n",
       "        text-align: right;\n",
       "    }\n",
       "\n",
       "    .dataframe thead th {\n",
       "        text-align: left;\n",
       "    }\n",
       "\n",
       "    .dataframe tbody tr th {\n",
       "        vertical-align: top;\n",
       "    }\n",
       "</style>\n",
       "<table border=\"2\" class=\"dataframe\">\n",
       "  <thead>\n",
       "    <tr style=\"text-align: right;\">\n",
       "      <th></th>\n",
       "      <th>review</th>\n",
       "      <th>stars</th>\n",
       "    </tr>\n",
       "  </thead>\n",
       "  <tbody>\n",
       "    <tr>\n",
       "      <th>0</th>\n",
       "      <td>i had about 45 minutes before i had to meet some friends so i decided to venture into this museum and check it out it was free and had a c so those were another two pluses the front desk people were really nice and helpful note that if you have bags a backpack you have to leave them upfront in t...</td>\n",
       "      <td>1</td>\n",
       "    </tr>\n",
       "    <tr>\n",
       "      <th>1</th>\n",
       "      <td>brazilian waxing for those that knows what this is knows the pain one endures to get this done but the benefits definitely outweighs the pain i had been putting this off for longer than one should and i finally bit the bullet and went to have it done luckily for me i got mine done by none other ...</td>\n",
       "      <td>1</td>\n",
       "    </tr>\n",
       "    <tr>\n",
       "      <th>2</th>\n",
       "      <td>on road trips my wife and i try to look for a w restaurants and this one was one of the best it had a truly classic feel without being tacky it was clean and the manager maybe owner delivered our tray and was wiping tables the food root beer on tap was also great after receiving the standard fro...</td>\n",
       "      <td>1</td>\n",
       "    </tr>\n",
       "    <tr>\n",
       "      <th>3</th>\n",
       "      <td>40 minutes for 1 chicken sandwich service sucked she was lazy i assume she forgot to put my order in also don t understand the hype w their pizza</td>\n",
       "      <td>0</td>\n",
       "    </tr>\n",
       "    <tr>\n",
       "      <th>4</th>\n",
       "      <td>5 out of 5 star hands down you definitely want to give your business to this smoke shop owner him and his son are just absolutely amazing great customer service i look forward to the days where i get to go to smoke and vape lots of variety and popular products one stop shop</td>\n",
       "      <td>1</td>\n",
       "    </tr>\n",
       "  </tbody>\n",
       "</table>\n",
       "</div>"
      ],
      "text/plain": [
       "                                                                                                                                                                                                                                                                                                        review  \\\n",
       "0  i had about 45 minutes before i had to meet some friends so i decided to venture into this museum and check it out it was free and had a c so those were another two pluses the front desk people were really nice and helpful note that if you have bags a backpack you have to leave them upfront in t...   \n",
       "1  brazilian waxing for those that knows what this is knows the pain one endures to get this done but the benefits definitely outweighs the pain i had been putting this off for longer than one should and i finally bit the bullet and went to have it done luckily for me i got mine done by none other ...   \n",
       "2  on road trips my wife and i try to look for a w restaurants and this one was one of the best it had a truly classic feel without being tacky it was clean and the manager maybe owner delivered our tray and was wiping tables the food root beer on tap was also great after receiving the standard fro...   \n",
       "3                                                                                                                                                           40 minutes for 1 chicken sandwich service sucked she was lazy i assume she forgot to put my order in also don t understand the hype w their pizza    \n",
       "4                          5 out of 5 star hands down you definitely want to give your business to this smoke shop owner him and his son are just absolutely amazing great customer service i look forward to the days where i get to go to smoke and vape lots of variety and popular products one stop shop    \n",
       "\n",
       "   stars  \n",
       "0      1  \n",
       "1      1  \n",
       "2      1  \n",
       "3      0  \n",
       "4      1  "
      ]
     },
     "execution_count": 27,
     "metadata": {},
     "output_type": "execute_result"
    }
   ],
   "source": [
    "df['review'] = df['review'].apply(lambda x:re.sub(r'\\W+', \" \",x))\n",
    "df['review'] = df['review'].apply(lambda x:x.lower())\n",
    "\n",
    "df['stars']  = df['stars'].apply(lambda x: 0 if (x==1 or x==2) else 1)\n",
    "df.to_csv(\"../data/subset_dataset\", index=False)\n",
    "df.head()"
   ]
  },
  {
   "cell_type": "markdown",
   "metadata": {},
   "source": [
    "## Encode text\n",
    "\n",
    "With cleaned reviews, we now need to generate embeddings for each review. Text data as we have now cannot be directly fed into the model, so we need to: \n",
    "\n",
    "* encode each word to a unique numerical value. \n",
    "\n",
    "So, a review will be converted from being an array of words to an array of integer values. This can be done by adding an Embedding layer onto the network, but we need to generate that embedding map first."
   ]
  },
  {
   "cell_type": "markdown",
   "metadata": {},
   "source": [
    "* Keras provides a Tokenizer module which we can use to encode the texts. \n",
    "* After converting the texts to sequences, we can obtain the word_index. \n",
    "* We also need the reverse dictionary, so let’s build that as well. \n",
    "\n",
    "After this, we can generate encoded reviews by iterating through the texts, and mapping each word to it’s embedding value."
   ]
  },
  {
   "cell_type": "code",
   "execution_count": 56,
   "metadata": {},
   "outputs": [
    {
     "name": "stdout",
     "output_type": "stream",
     "text": [
      "Total number of words in corpus :  183248\n"
     ]
    }
   ],
   "source": [
    "# Complete this part of the code\n",
    "c = Counter(words)  # Note : 'words' in defined in below cell under 'Standardize text'. Run that cell first\n",
    "print (\"Total number of words in corpus : \", len(c))"
   ]
  },
  {
   "cell_type": "markdown",
   "metadata": {},
   "source": [
    "Below we are vectorizing a text corpus, by turning each text into either a sequence of integers (each integer being the index of a token in a dictionary) or into a vector where the coefficient for each token could be binary, based on word count, based on tf-idf"
   ]
  },
  {
   "cell_type": "code",
   "execution_count": 13,
   "metadata": {},
   "outputs": [],
   "source": [
    "max_fatures = 2000\n",
    "# df = pd.read_csv(\"../data/subset_dataset\")\n",
    "\n",
    "tokenizer = Tokenizer(num_words=max_fatures, split=' ')\n",
    "tokenizer.fit_on_texts(df['review'].values)"
   ]
  },
  {
   "cell_type": "code",
   "execution_count": 14,
   "metadata": {
    "collapsed": true
   },
   "outputs": [],
   "source": [
    "# saving tokenizer\n",
    "with open('../data/tokenizer.pickle', 'wb') as handle:\n",
    "    pickle.dump(tokenizer, handle, protocol=pickle.HIGHEST_PROTOCOL)"
   ]
  },
  {
   "cell_type": "markdown",
   "metadata": {},
   "source": [
    "## Standardize text \n",
    "\n",
    "The next part is to standardize the reviews.\n",
    "\n",
    "As you may have seen when loading the data, all of the reviews have different lengths, some have 50 words, some have 100, and some are even larger. We can take a look at a histogram of the review lengths to make the decision on where to cap the reviews."
   ]
  },
  {
   "cell_type": "code",
   "execution_count": 55,
   "metadata": {},
   "outputs": [
    {
     "name": "stdout",
     "output_type": "stream",
     "text": [
      "[130, 227, 106, 30, 55, 77, 32, 36, 134, 36, 17, 94, 280, 369, 95, 685, 324, 37, 67, 38]\n"
     ]
    }
   ],
   "source": [
    "def countWords(sentences):\n",
    "    \"\"\"\n",
    "    Function to count number of words in each sentence from the given list of sentences\n",
    "    :param sentences : List(String). List of sentences\n",
    "    :return: List(Integer). List of number of words in each sentence\n",
    "    \"\"\"\n",
    "    countWords = []\n",
    "    words = []\n",
    "    for sentence in sentences:\n",
    "        countWords.append(len(sentence.split(\" \")))\n",
    "        words.extend(sentence.split(\" \"))\n",
    "        \n",
    "    return countWords[:], words\n",
    "\n",
    "numberOfWords, words = countWords(df['review'].values[:])\n",
    "print (numberOfWords[:20])"
   ]
  },
  {
   "cell_type": "code",
   "execution_count": 41,
   "metadata": {},
   "outputs": [
    {
     "name": "stderr",
     "output_type": "stream",
     "text": [
      "/home/saurabh/miniconda3/lib/python3.5/site-packages/matplotlib/axes/_axes.py:6462: UserWarning: The 'normed' kwarg is deprecated, and has been replaced by the 'density' kwarg.\n",
      "  warnings.warn(\"The 'normed' kwarg is deprecated, and has been \"\n"
     ]
    },
    {
     "data": {
      "image/png": "[encoded data removed]",
      "text/plain": [
       "<Figure size 720x360 with 1 Axes>"
      ]
     },
     "metadata": {},
     "output_type": "display_data"
    }
   ],
   "source": [
    "plt.figure(figsize=(10,5))\n",
    "# plt.title(\"Cumulative distribution of number of words per sentence\")\n",
    "plt.xticks(np.arange(0, max(numberOfWords)+1, 100.0))\n",
    "plt.hist(numberOfWords,normed=1,cumulative=True, histtype='step', bins = 20, linewidth=2)\n",
    "plt.show()"
   ]
  },
  {
   "cell_type": "code",
   "execution_count": 42,
   "metadata": {},
   "outputs": [
    {
     "name": "stderr",
     "output_type": "stream",
     "text": [
      "/home/saurabh/miniconda3/lib/python3.5/site-packages/matplotlib/axes/_axes.py:6462: UserWarning: The 'normed' kwarg is deprecated, and has been replaced by the 'density' kwarg.\n",
      "  warnings.warn(\"The 'normed' kwarg is deprecated, and has been \"\n"
     ]
    },
    {
     "data": {
      "image/png": "[encoded data removed]",
      "text/plain": [
       "<Figure size 720x360 with 1 Axes>"
      ]
     },
     "metadata": {},
     "output_type": "display_data"
    }
   ],
   "source": [
    "plt.figure(figsize=(10,5))\n",
    "plt.xlabel(\"No. of words per sentence\")\n",
    "plt.ylabel(\"Frequency density of words\")\n",
    "sns.distplot(numberOfWords)\n",
    "plt.show()"
   ]
  },
  {
   "cell_type": "markdown",
   "metadata": {},
   "source": [
    "It seems that 300–400 words length reviews encompass our 90% of the dataset. \n",
    "\n",
    "300 is going to be a good number to cap the words to. \n",
    "\n",
    "Referring to the code below, we will use the function pad_sequences from Keras, which will truncate larger reviews, and pad smaller reviews with zeros, to a maximum cap of 300."
   ]
  },
  {
   "cell_type": "code",
   "execution_count": 2,
   "metadata": {},
   "outputs": [],
   "source": [
    "# Complete the code for pad_sequence from keras\n",
    "\n",
    "# loading tokenizer\n",
    "with open('../data/tokenizer.pickle', 'rb') as handle:\n",
    "    tokenizer = pickle.load(handle)\n",
    "\n",
    "df = pd.read_csv(\"../data/subset_dataset\")\n",
    "    \n",
    "X = tokenizer.texts_to_sequences(df['review'].values)\n",
    "X = pad_sequences(X)"
   ]
  },
  {
   "cell_type": "markdown",
   "metadata": {},
   "source": [
    "## Shuffle data\n",
    "From this, we get our X and Y . \n",
    "\n",
    "* The labels will be converted to a one-hot-encoding representation. \n",
    "* The next step is to shuffle the data. \n",
    "\n",
    "To be double sure that data is randomly distributed for + and — reviews, we will shuffle it again. We will use numpy’s random.permuation to shuffle both X and Y equally."
   ]
  },
  {
   "cell_type": "code",
   "execution_count": 44,
   "metadata": {},
   "outputs": [
    {
     "data": {
      "text/html": [
       "<div>\n",
       "<style>\n",
       "    .dataframe thead tr:only-child th {\n",
       "        text-align: right;\n",
       "    }\n",
       "\n",
       "    .dataframe thead th {\n",
       "        text-align: left;\n",
       "    }\n",
       "\n",
       "    .dataframe tbody tr th {\n",
       "        vertical-align: top;\n",
       "    }\n",
       "</style>\n",
       "<table border=\"2\" class=\"dataframe\">\n",
       "  <thead>\n",
       "    <tr style=\"text-align: right;\">\n",
       "      <th></th>\n",
       "      <th>review</th>\n",
       "      <th>stars</th>\n",
       "    </tr>\n",
       "  </thead>\n",
       "  <tbody>\n",
       "    <tr>\n",
       "      <th>0</th>\n",
       "      <td>i had about 45 minutes before i had to meet some friends so i decided to venture into this museum and check it out it was free and had a c so those were another two pluses the front desk people were really nice and helpful note that if you have bags a backpack you have to leave them upfront in t...</td>\n",
       "      <td>4.0</td>\n",
       "    </tr>\n",
       "    <tr>\n",
       "      <th>1</th>\n",
       "      <td>brazilian waxing for those that knows what this is knows the pain one endures to get this done but the benefits definitely outweighs the pain i had been putting this off for longer than one should and i finally bit the bullet and went to have it done luckily for me i got mine done by none other ...</td>\n",
       "      <td>5.0</td>\n",
       "    </tr>\n",
       "    <tr>\n",
       "      <th>2</th>\n",
       "      <td>on road trips my wife and i try to look for a w restaurants and this one was one of the best it had a truly classic feel without being tacky it was clean and the manager maybe owner delivered our tray and was wiping tables the food root beer on tap was also great after receiving the standard fro...</td>\n",
       "      <td>5.0</td>\n",
       "    </tr>\n",
       "    <tr>\n",
       "      <th>3</th>\n",
       "      <td>40 minutes for 1 chicken sandwich service sucked she was lazy i assume she forgot to put my order in also don t understand the hype w their pizza</td>\n",
       "      <td>1.0</td>\n",
       "    </tr>\n",
       "    <tr>\n",
       "      <th>4</th>\n",
       "      <td>5 out of 5 star hands down you definitely want to give your business to this smoke shop owner him and his son are just absolutely amazing great customer service i look forward to the days where i get to go to smoke and vape lots of variety and popular products one stop shop</td>\n",
       "      <td>5.0</td>\n",
       "    </tr>\n",
       "  </tbody>\n",
       "</table>\n",
       "</div>"
      ],
      "text/plain": [
       "                                                                                                                                                                                                                                                                                                        review  \\\n",
       "0  i had about 45 minutes before i had to meet some friends so i decided to venture into this museum and check it out it was free and had a c so those were another two pluses the front desk people were really nice and helpful note that if you have bags a backpack you have to leave them upfront in t...   \n",
       "1  brazilian waxing for those that knows what this is knows the pain one endures to get this done but the benefits definitely outweighs the pain i had been putting this off for longer than one should and i finally bit the bullet and went to have it done luckily for me i got mine done by none other ...   \n",
       "2  on road trips my wife and i try to look for a w restaurants and this one was one of the best it had a truly classic feel without being tacky it was clean and the manager maybe owner delivered our tray and was wiping tables the food root beer on tap was also great after receiving the standard fro...   \n",
       "3                                                                                                                                                           40 minutes for 1 chicken sandwich service sucked she was lazy i assume she forgot to put my order in also don t understand the hype w their pizza    \n",
       "4                          5 out of 5 star hands down you definitely want to give your business to this smoke shop owner him and his son are just absolutely amazing great customer service i look forward to the days where i get to go to smoke and vape lots of variety and popular products one stop shop    \n",
       "\n",
       "   stars  \n",
       "0    4.0  \n",
       "1    5.0  \n",
       "2    5.0  \n",
       "3    1.0  \n",
       "4    5.0  "
      ]
     },
     "execution_count": 44,
     "metadata": {},
     "output_type": "execute_result"
    }
   ],
   "source": [
    "df = df.reindex(np.random.permutation(df.index)).reset_index(drop=True)\n",
    "df.head()"
   ]
  },
  {
   "cell_type": "markdown",
   "metadata": {},
   "source": [
    "## Traning, Dev, and Test set\n",
    "\n",
    "Now we have to divide the reviews into 3 sections: \n",
    "* Traning, \n",
    "* Dev, and \n",
    "* Test set.\n",
    "\n",
    "The Training data will be used for training the model, and will be majority of the data, 80% (320000 records). Dev data will be used as validation after each training cycle, and is 10% (40000 records), and separate from training so it is unseen. The final 10% (40000 records) is testing data, also unseen and used to verify that the model hasn’t overfitted to Training and Dev. "
   ]
  },
  {
   "cell_type": "code",
   "execution_count": 14,
   "metadata": {},
   "outputs": [],
   "source": [
    "# df = pd.read_csv(\"../data/subset_dataset\")\n",
    "train = df[0:320000]\n",
    "train.to_csv(\"../data/train.csv\", index=False)\n",
    "\n",
    "dev = df[320001:360000]\n",
    "dev.to_csv(\"../data/dev.csv\", index=False)\n",
    "\n",
    "test = df[360001:]\n",
    "test.to_csv(\"../data/test.csv\",index=False)"
   ]
  },
  {
   "cell_type": "markdown",
   "metadata": {},
   "source": [
    "## Defining and Training the model\n",
    "\n",
    "I compose the LSTM Network - 2 layer with a 100 neurons each.\n",
    "\n",
    "Note that **embed_dim**, **lstm_out**, **batch_size**, **droupout_x** variables are hyperparameters, their values are somehow intuitive, can be and must be played with in order to achieve good results. \n",
    "\n",
    "Please also note that I am using softmax as activation function. The reason is that our Network is using categorical crossentropy, and softmax is just the right activation method for that.\n",
    "\n",
    "With an Adam optimizer, the model was trained using a batch_size of 50. "
   ]
  },
  {
   "cell_type": "code",
   "execution_count": 3,
   "metadata": {},
   "outputs": [
    {
     "name": "stdout",
     "output_type": "stream",
     "text": [
      "WARNING:tensorflow:From /home/saurabh/miniconda3/lib/python3.5/site-packages/keras/backend/tensorflow_backend.py:1044: calling reduce_sum (from tensorflow.python.ops.math_ops) with keep_dims is deprecated and will be removed in a future version.\n",
      "Instructions for updating:\n",
      "keep_dims is deprecated, use keepdims instead\n",
      "WARNING:tensorflow:From /home/saurabh/miniconda3/lib/python3.5/site-packages/keras/backend/tensorflow_backend.py:1123: calling reduce_mean (from tensorflow.python.ops.math_ops) with keep_dims is deprecated and will be removed in a future version.\n",
      "Instructions for updating:\n",
      "keep_dims is deprecated, use keepdims instead\n",
      "_________________________________________________________________\n",
      "Layer (type)                 Output Shape              Param #   \n",
      "=================================================================\n",
      "embedding_1 (Embedding)      (None, 1012, 100)         200000    \n",
      "_________________________________________________________________\n",
      "spatial_dropout1d_1 (Spatial (None, 1012, 100)         0         \n",
      "_________________________________________________________________\n",
      "lstm_1 (LSTM)                (None, 100)               80400     \n",
      "_________________________________________________________________\n",
      "dense_1 (Dense)              (None, 2)                 202       \n",
      "=================================================================\n",
      "Total params: 280,602.0\n",
      "Trainable params: 280,602.0\n",
      "Non-trainable params: 0.0\n",
      "_________________________________________________________________\n",
      "None\n"
     ]
    }
   ],
   "source": [
    "embed_dim = 100\n",
    "lstm_out = 100\n",
    "max_fatures = 2000\n",
    "\n",
    "model = Sequential()\n",
    "model.add(Embedding(max_fatures, embed_dim,input_length = X.shape[1]))\n",
    "model.add(SpatialDropout1D(0.4))\n",
    "model.add(LSTM(lstm_out, dropout=0.2, recurrent_dropout=0.2))\n",
    "model.add(Dense(2,activation='softmax'))\n",
    "model.compile(loss = 'categorical_crossentropy', optimizer='adam',metrics = ['accuracy'])\n",
    "print(model.summary())"
   ]
  },
  {
   "cell_type": "code",
   "execution_count": 4,
   "metadata": {},
   "outputs": [
    {
     "name": "stdout",
     "output_type": "stream",
     "text": [
      "(320000, 1012) (320000, 2)\n",
      "(80000, 1012) (80000, 2)\n"
     ]
    }
   ],
   "source": [
    "Y = pd.get_dummies(df['stars']).values\n",
    "X_train, X_test, Y_train, Y_test = train_test_split(X,Y, test_size = 0.20, random_state = 42)\n",
    "del df\n",
    "print(X_train.shape,Y_train.shape)\n",
    "print(X_test.shape,Y_test.shape)"
   ]
  },
  {
   "cell_type": "code",
   "execution_count": 8,
   "metadata": {
    "collapsed": true
   },
   "outputs": [],
   "source": [
    "X_val = X_test[:40000]\n",
    "Y_val = Y_test[:40000]"
   ]
  },
  {
   "cell_type": "code",
   "execution_count": 10,
   "metadata": {},
   "outputs": [
    {
     "name": "stdout",
     "output_type": "stream",
     "text": [
      "Train on 320000 samples, validate on 40000 samples\n",
      "Epoch 1/4\n",
      "320000/320000 [==============================] - 19621s - loss: 0.2179 - acc: 0.9138 - val_loss: 0.1526 - val_acc: 0.9411\n",
      "Epoch 2/4\n",
      "320000/320000 [==============================] - 26063s - loss: 0.1529 - acc: 0.9402 - val_loss: 0.1309 - val_acc: 0.9492\n",
      "Epoch 3/4\n",
      "320000/320000 [==============================] - 16543s - loss: 0.1345 - acc: 0.9478 - val_loss: 0.1242 - val_acc: 0.9520\n",
      "Epoch 4/4\n",
      "320000/320000 [==============================] - 16275s - loss: 0.1259 - acc: 0.9518 - val_loss: 0.1216 - val_acc: 0.9540\n"
     ]
    }
   ],
   "source": [
    "batch_size = 32\n",
    "history = model.fit(X_train, Y_train, epochs = 4, batch_size=batch_size, verbose = 1, validation_data=(X_val,Y_val))"
   ]
  },
  {
   "cell_type": "code",
   "execution_count": 11,
   "metadata": {
    "collapsed": true
   },
   "outputs": [],
   "source": [
    "model.save(\"../data/sentiment_model.hdf5\")"
   ]
  },
  {
   "cell_type": "code",
   "execution_count": 19,
   "metadata": {},
   "outputs": [
    {
     "name": "stdout",
     "output_type": "stream",
     "text": [
      "dict_keys(['val_loss', 'val_acc', 'loss', 'acc'])\n"
     ]
    },
    {
     "data": {
      "image/png": "[encoded data removed]",
      "text/plain": [
       "<Figure size 576x396 with 1 Axes>"
      ]
     },
     "metadata": {},
     "output_type": "display_data"
    },
    {
     "data": {
      "image/png": "[encoded data removed]",
      "text/plain": [
       "<Figure size 576x396 with 1 Axes>"
      ]
     },
     "metadata": {},
     "output_type": "display_data"
    }
   ],
   "source": [
    "print(history.history.keys())\n",
    "#  \"Accuracy\"\n",
    "plt.plot(history.history['acc'])\n",
    "plt.plot(history.history['val_acc'])\n",
    "plt.title('model accuracy')\n",
    "plt.ylabel('accuracy')\n",
    "plt.xlabel('epoch')\n",
    "plt.legend(['train', 'validation'], loc='upper left')\n",
    "plt.show()\n",
    "# \"Loss\"\n",
    "plt.plot(history.history['loss'])\n",
    "plt.plot(history.history['val_loss'])\n",
    "plt.title('model loss')\n",
    "plt.ylabel('loss')\n",
    "plt.xlabel('epoch')\n",
    "plt.legend(['train', 'validation'], loc='upper left')\n",
    "plt.show()"
   ]
  },
  {
   "cell_type": "markdown",
   "metadata": {},
   "source": [
    "## Testing on user input\n",
    "\n",
    "Testing the model on user input sentences/reviews.\n",
    "\n",
    "GO ahead and try one of your own sentences to see the output."
   ]
  },
  {
   "cell_type": "code",
   "execution_count": 23,
   "metadata": {},
   "outputs": [
    {
     "name": "stdout",
     "output_type": "stream",
     "text": [
      "[[0.4622965  0.5377035 ]\n",
      " [0.28428844 0.71571153]\n",
      " [0.9445617  0.05543826]\n",
      " [0.99477506 0.00522494]\n",
      " [0.01922075 0.9807793 ]]\n"
     ]
    }
   ],
   "source": [
    "twt = ['Meetings: Because none of us is as dumb as all of us.',\"it suck\", \"it was bad\",\"i will not come back\",\"will be back\"]\n",
    "#vectorizing the tweet by the pre-fitted tokenizer instance\n",
    "twt = tokenizer.texts_to_sequences(twt)\n",
    "#padding the tweet to have exactly the same shape as `embedding_2` input\n",
    "twt = pad_sequences(twt, maxlen=1012, dtype='int32', value=0)\n",
    "# print(twt)\n",
    "sentiment = model.predict(twt,batch_size=1,verbose = 2)\n",
    "print (sentiment)\n",
    "if(np.argmax(sentiment) == 0):\n",
    "    print(\"negative\")\n",
    "elif (np.argmax(sentiment) == 1):\n",
    "    print(\"positive\")"
   ]
  },
  {
   "cell_type": "markdown",
   "metadata": {},
   "source": [
    "The validation error decreases with decrease in training error.\n",
    "\n",
    "We could only train for 4 epochs, because on my local system, it took 7-8 hrs to train for just 1 epoch.\n",
    "\n",
    "More epochs could be tried, had we access to GPU which we don't. "
   ]
  },
  {
   "cell_type": "markdown",
   "metadata": {},
   "source": [
    "## Training with GloVe Embeddings\n",
    "\n",
    "The final thing we tried was to change the embeddings. \n",
    "\n",
    "In the previous model, we have been using standard embeddings. This means that words that are semantic synonyms have unrelated vector representations. So, if we have the words **Kitchen** and **Dinner**, they could be very far away from each other, while they should be closer since their meaning share a theme. \n",
    "\n",
    "To fix this problem, we need to give the encodings values that give words in the same space closer vectors, and distinct words farther vectors.\n",
    "\n",
    "\n",
    "For this model, we will use GloVe, which generates similar vectorial representations. Instead of training a embedding model from scratch, we will use a pre-trained model here instead. The pre-trained vectors can be obtained from this [Stanford project](https://nlp.stanford.edu/projects/glove/).\n",
    "\n"
   ]
  },
  {
   "cell_type": "markdown",
   "metadata": {},
   "source": [
    "<br><br><br>\n",
    "\n",
    "Several things are happening here, the first of which is reading the glove embeddings. We read them from the text file, splitting them into the word and the vector.\n",
    "\n",
    "Using the map of words and vectors, we will create an Embeddings Matrix, which will map each of the words in our vocab to the vector for it. Iterating over it, we will build the embeddings matrix by indexing the glove vectors.\n",
    "\n",
    "Another note here is that the embeddings have a size of 50 for each vector. This means that we would need to re-generate the encoded reviews, call pad_sequences again, and remake X based on the new max_cap.\n",
    "\n",
    "Moving onto the model, we are changing only one thing, the Embedding layer. We add the parameters weights=[embeddings_matrix] , and trainable=False to make sure that the layer obtains encodings from the GloVe vectors, and does not update the weights during training. After training, I get the following results:"
   ]
  },
  {
   "cell_type": "code",
   "execution_count": 3,
   "metadata": {},
   "outputs": [
    {
     "name": "stdout",
     "output_type": "stream",
     "text": [
      "Len of training set :  320000\n",
      "Len of testing set :  79999\n"
     ]
    }
   ],
   "source": [
    "## Building X_train, Y_train, X_test and Y_test\n",
    "\n",
    "df = pd.read_csv(\"../data/subset_dataset\")\n",
    "X_train, Y_train = df[0:320000]['review'], df[0:320000]['stars']\n",
    "\n",
    "X_test, Y_test = df[320001:]['review'], df[320001:]['stars']\n",
    "print (\"Len of training set : \",len(X_train))\n",
    "print (\"Len of testing set : \",len(X_test))"
   ]
  },
  {
   "cell_type": "code",
   "execution_count": 5,
   "metadata": {},
   "outputs": [
    {
     "data": {
      "text/plain": [
       "array([[0, 1],\n",
       "       [0, 1],\n",
       "       [0, 1],\n",
       "       ...,\n",
       "       [0, 1],\n",
       "       [0, 1],\n",
       "       [1, 0]], dtype=uint8)"
      ]
     },
     "execution_count": 5,
     "metadata": {},
     "output_type": "execute_result"
    }
   ],
   "source": [
    "## Converting Y to one-hot\n",
    "\n",
    "Y_OneHot_Train = pd.get_dummies(Y_train).values\n",
    "Y_OneHot_Test = pd.get_dummies(Y_test).values\n",
    "\n",
    "Y_OneHot_Train"
   ]
  },
  {
   "cell_type": "code",
   "execution_count": 6,
   "metadata": {
    "collapsed": true
   },
   "outputs": [],
   "source": [
    "## Reading Glove Vector\n",
    "\n",
    "def readGlove(filename):\n",
    "    \"\"\"\n",
    "    Function to read glove vector from the disk and compute word_to_index, index_to_word, and word_to_vec map.    \n",
    "    Below code is taken from Deep Leaning class of Andrew Ng on coursera.\n",
    "    \n",
    "    :param filename : String. e.g. \"../data/gloveVec.txt\"\n",
    "    :return : Tuple(dict, dict, dict) .\n",
    "    \"\"\"        \n",
    "    with open(filename, 'r', encoding='utf-8') as f:\n",
    "        words = set()\n",
    "        word_to_vec_map = {}\n",
    "        for line in f:\n",
    "            line = line.strip().split()\n",
    "            curr_word = line[0]\n",
    "            words.add(curr_word)\n",
    "            word_to_vec_map[curr_word] = np.array(line[1:], dtype=np.float64)\n",
    "        \n",
    "        i = 1\n",
    "        words_to_index = {}\n",
    "        index_to_words = {}\n",
    "        for w in sorted(words):\n",
    "            words_to_index[w] = i\n",
    "            index_to_words[i] = w\n",
    "            i = i + 1\n",
    "    return words_to_index, index_to_words, word_to_vec_map\n",
    "\n",
    "words_to_index, index_to_words, word_to_vec_map = readGlove(\"../data/glove.6B.50d.txt\")"
   ]
  },
  {
   "cell_type": "code",
   "execution_count": 7,
   "metadata": {
    "collapsed": true
   },
   "outputs": [],
   "source": [
    "## Converting sentences from X_train/X_test into indices vector\n",
    "\n",
    "def sentences_to_indices(X, word_to_index, max_len):\n",
    "    \"\"\"\n",
    "    Converts an array of sentences (strings) into an array of indices corresponding to words in the sentences.\n",
    "    The output shape should be such that it can be given to `Embedding()`\n",
    "    \n",
    "    Arguments:\n",
    "    X -- array of sentences (strings), of shape (m, 1)\n",
    "    word_to_index -- a dictionary containing the each word mapped to its index\n",
    "    max_len -- maximum number of words in a sentence. One can assume every sentence in X is no longer than this. \n",
    "    \n",
    "    Returns:\n",
    "    X_indices -- array of indices corresponding to words in the sentences from X, of shape (m, max_len)\n",
    "    \"\"\"\n",
    "    \n",
    "    m = X.shape[0]                                   # number of training examples\n",
    "    \n",
    "    # Initialize X_indices as a numpy matrix of zeros and the correct shape\n",
    "    X_indices = np.zeros(shape=(m, max_len))\n",
    "    \n",
    "    for i in range(m):                               \n",
    "        \n",
    "        # Convert the ith training sentence in lower case and split is into words. You should get a list of words.\n",
    "        sentence_words =X[i].lower().strip().split()\n",
    "        \n",
    "        # Initialize j to 0\n",
    "        j = 0\n",
    "        \n",
    "        # Loop over the words of sentence_words\n",
    "        for w in sentence_words:\n",
    "            # Set the (i,j)th entry of X_indices to the index of the correct word.\n",
    "            try:\n",
    "                X_indices[i, j] = word_to_index[w]\n",
    "            except KeyError as e:\n",
    "                X_indices[i, j] = word_to_index[\"unk\"]\n",
    "            # Increment j to j + 1\n",
    "            j = j + 1\n",
    "            if j>=max_len:\n",
    "                break\n",
    "    \n",
    "    return X_indices"
   ]
  },
  {
   "cell_type": "code",
   "execution_count": 8,
   "metadata": {
    "collapsed": true
   },
   "outputs": [],
   "source": [
    "## Defining pre-training embedding layer to be used in out LSTM Model\n",
    "\n",
    "def pretrained_embedding_layer(word_to_vec_map, word_to_index):\n",
    "    \"\"\"\n",
    "    Creates a Keras Embedding() layer and loads in pre-trained GloVe 50-dimensional vectors.\n",
    "    \n",
    "    Arguments:\n",
    "    word_to_vec_map -- dictionary mapping words to their GloVe vector representation.\n",
    "    word_to_index -- dictionary mapping from words to their indices in the vocabulary (400,001 words)\n",
    "\n",
    "    Returns:\n",
    "    embedding_layer -- pretrained layer Keras instance\n",
    "    \"\"\"\n",
    "    \n",
    "    vocab_len = len(word_to_index) + 1                  # adding 1 to fit Keras embedding (requirement)\n",
    "#     vocab_len = len(words_to_index)                     #using this for twitter glove vectors\n",
    "    emb_dim = word_to_vec_map[\"cucumber\"].shape[0]      \n",
    "    \n",
    "    # Initialize the embedding matrix as a numpy array of zeros of shape (vocab_len, dimensions of word vectors = emb_dim)\n",
    "    emb_matrix = np.zeros(shape=(vocab_len, emb_dim))\n",
    "    \n",
    "    # Set each row \"index\" of the embedding matrix to be the word vector representation of the \"index\"th word of the vocabulary\n",
    "    for word, index in word_to_index.items():\n",
    "        try:\n",
    "            emb_matrix[index, :] = word_to_vec_map[word]\n",
    "        except Exception as e:\n",
    "            print (\"Exception {0} occured for word {1}\".format(e, word))\n",
    "\n",
    "    # Define Keras embedding layer with the correct output/input sizes, make it trainable.\n",
    "    embedding_layer = Embedding(vocab_len, emb_dim, trainable=False)\n",
    "\n",
    "    # Build the embedding layer, it is required before setting the weights of the embedding layer.\n",
    "    embedding_layer.build((None,))\n",
    "    \n",
    "    # Set the weights of the embedding layer to the embedding matrix.\n",
    "    embedding_layer.set_weights([emb_matrix])\n",
    "    \n",
    "    return embedding_layer"
   ]
  },
  {
   "cell_type": "code",
   "execution_count": 10,
   "metadata": {
    "collapsed": true
   },
   "outputs": [],
   "source": [
    "## Creating Model\n",
    "\n",
    "def sentimentify(input_shape, word_to_vec_map, word_to_index):\n",
    "    \"\"\"\n",
    "    Function creating the sentimentify model's graph.\n",
    "    \n",
    "    Arguments:\n",
    "    input_shape -- shape of the input, usually (max_len,)\n",
    "    word_to_vec_map -- dictionary mapping every word in a vocabulary into its 50-dimensional vector representation\n",
    "    word_to_index -- dictionary mapping from words to their indices in the vocabulary (400,001 words)\n",
    "\n",
    "    Returns:\n",
    "    model -- a model instance in Keras\n",
    "    \"\"\"\n",
    "    \n",
    "    sentence_indices = Input(shape=input_shape, dtype='int32')\n",
    "    embedding_layer = pretrained_embedding_layer(word_to_vec_map, word_to_index)\n",
    "    embeddings = embedding_layer(sentence_indices)\n",
    "    spatialDropOut = SpatialDropout1D(0.4)(embeddings)\n",
    "    \n",
    "    X = LSTM(100, dropout=0.2, recurrent_dropout=0.2)(spatialDropOut)\n",
    "    X = Dense(classes, activation='softmax')(X)\n",
    "    X = Activation('softmax')(X)\n",
    "    \n",
    "    # Create Model instance which converts sentence_indices into X.\n",
    "    model = Model(sentence_indices, X)\n",
    "    \n",
    "    \n",
    "    return model"
   ]
  },
  {
   "cell_type": "code",
   "execution_count": 18,
   "metadata": {},
   "outputs": [
    {
     "name": "stdout",
     "output_type": "stream",
     "text": [
      "_________________________________________________________________\n",
      "Layer (type)                 Output Shape              Param #   \n",
      "=================================================================\n",
      "input_4 (InputLayer)         (None, 300)               0         \n",
      "_________________________________________________________________\n",
      "embedding_4 (Embedding)      (None, 300, 50)           20000050  \n",
      "_________________________________________________________________\n",
      "spatial_dropout1d_4 (Spatial (None, 300, 50)           0         \n",
      "_________________________________________________________________\n",
      "lstm_4 (LSTM)                (None, 100)               60400     \n",
      "_________________________________________________________________\n",
      "dense_3 (Dense)              (None, 2)                 202       \n",
      "_________________________________________________________________\n",
      "activation_3 (Activation)    (None, 2)                 0         \n",
      "=================================================================\n",
      "Total params: 20,060,652.0\n",
      "Trainable params: 60,602.0\n",
      "Non-trainable params: 20,000,050.0\n",
      "_________________________________________________________________\n"
     ]
    }
   ],
   "source": [
    "maxLen = 300\n",
    "classes = 2\n",
    "model = sentimentify((maxLen,), word_to_vec_map, words_to_index)\n",
    "model.summary()"
   ]
  },
  {
   "cell_type": "code",
   "execution_count": 19,
   "metadata": {},
   "outputs": [
    {
     "name": "stdout",
     "output_type": "stream",
     "text": [
      "WARNING:tensorflow:From /home/saurabh/miniconda3/lib/python3.5/site-packages/keras/backend/tensorflow_backend.py:1123: calling reduce_mean (from tensorflow.python.ops.math_ops) with keep_dims is deprecated and will be removed in a future version.\n",
      "Instructions for updating:\n",
      "keep_dims is deprecated, use keepdims instead\n"
     ]
    }
   ],
   "source": [
    "## Compiling the model\n",
    "\n",
    "model.compile(loss='binary_crossentropy', optimizer='adam', metrics=['accuracy'])"
   ]
  },
  {
   "cell_type": "code",
   "execution_count": 20,
   "metadata": {
    "collapsed": true
   },
   "outputs": [],
   "source": [
    "X_train_indices = sentences_to_indices(X_train, words_to_index, maxLen)"
   ]
  },
  {
   "cell_type": "code",
   "execution_count": null,
   "metadata": {},
   "outputs": [
    {
     "name": "stdout",
     "output_type": "stream",
     "text": [
      "Epoch 1/8\n",
      "  4700/320000 [..............................] - ETA: 3450s - loss: 0.6848 - acc: 0.5360"
     ]
    }
   ],
   "source": [
    "history2 = model.fit(X_train_indices, Y_OneHot_Train, epochs = 8, batch_size = 50, shuffle=True)"
   ]
  },
  {
   "cell_type": "code",
   "execution_count": null,
   "metadata": {
    "collapsed": true
   },
   "outputs": [],
   "source": []
  }
 ],
 "metadata": {
  "kernelspec": {
   "display_name": "Python 3",
   "language": "python",
   "name": "python3"
  },
  "language_info": {
   "codemirror_mode": {
    "name": "ipython",
    "version": 3
   },
   "file_extension": ".py",
   "mimetype": "text/x-python",
   "name": "python",
   "nbconvert_exporter": "python",
   "pygments_lexer": "ipython3",
   "version": "3.5.3"
  }
 },
 "nbformat": 4,
 "nbformat_minor": 2
}
